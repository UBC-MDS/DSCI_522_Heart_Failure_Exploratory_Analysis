{
 "cells": [
  {
   "cell_type": "code",
   "execution_count": 1,
   "id": "99269382-965b-4de4-83da-b41313a4dd08",
   "metadata": {},
   "outputs": [],
   "source": [
    "import altair as alt\n",
    "import numpy as np\n",
    "import pandas as pd\n",
    "import matplotlib.pyplot as plt \n",
    "from scipy.stats import loguniform\n",
    "import sklearn\n",
    "from sklearn.compose import make_column_transformer\n",
    "from sklearn.dummy import DummyClassifier\n",
    "from sklearn.ensemble import RandomForestClassifier\n",
    "from sklearn.neighbors import KNeighborsClassifier\n",
    "from sklearn.metrics import (\n",
    "    accuracy_score, recall_score, precision_score,\n",
    "    f1_score, precision_recall_curve, average_precision_score,\n",
    "    classification_report, confusion_matrix,\n",
    "    PrecisionRecallDisplay, roc_curve, roc_auc_score\n",
    ")\n",
    "from sklearn.model_selection import (\n",
    "    cross_validate, RandomizedSearchCV\n",
    ")\n",
    "from sklearn.pipeline import make_pipeline\n",
    "from sklearn.preprocessing import (\n",
    "    StandardScaler, OneHotEncoder\n",
    ")\n",
    "from sklearn.model_selection import cross_val_predict"
   ]
  },
  {
   "cell_type": "code",
   "execution_count": 2,
   "id": "c6a5e5e0-31bb-4710-85ef-a41512848473",
   "metadata": {},
   "outputs": [
    {
     "data": {
      "text/plain": [
       "RendererRegistry.enable('mimetype')"
      ]
     },
     "execution_count": 2,
     "metadata": {},
     "output_type": "execute_result"
    }
   ],
   "source": [
    "alt.renderers.enable('mimetype')"
   ]
  },
  {
   "cell_type": "code",
   "execution_count": 3,
   "id": "70ce06ab-9186-4996-a8d4-2815f973da0c",
   "metadata": {},
   "outputs": [],
   "source": [
    "#Reading the data\n",
    "train_df = pd.read_csv(\"../data/processed/Heart_Failure_Data_train.csv\")\n",
    "test_df = pd.read_csv(\"../data/processed/Heart_Failure_Data_test.csv\")"
   ]
  },
  {
   "cell_type": "code",
   "execution_count": 4,
   "id": "9e669527-78d1-49e1-8133-fca2a6896d74",
   "metadata": {},
   "outputs": [],
   "source": [
    "# Data splitting\n",
    "X_train = train_df.drop(\"DEATH_EVENT\", axis=1)\n",
    "y_train = train_df['DEATH_EVENT']\n",
    "X_test = test_df.drop(\"DEATH_EVENT\", axis=1)\n",
    "y_test = test_df['DEATH_EVENT']"
   ]
  },
  {
   "cell_type": "code",
   "execution_count": 5,
   "id": "0562e4cb-e84f-44c2-bec0-5964dcfd1903",
   "metadata": {},
   "outputs": [],
   "source": [
    "# Seperate the features for preprocessing\n",
    "numeric_features = ['age','creatinine_phosphokinase','ejection_fraction','platelets','serum_creatinine', 'serum_sodium','time']\n",
    "binary_feats = ['sex', 'diabetes', 'high_blood_pressure','anaemia']"
   ]
  },
  {
   "cell_type": "code",
   "execution_count": 6,
   "id": "62b62ac0-7d1a-49c5-ae7b-d8786e3a780d",
   "metadata": {},
   "outputs": [],
   "source": [
    "#define a column transformer\n",
    "col_trans = make_column_transformer(\n",
    "    (StandardScaler(), numeric_features),\n",
    "    (OneHotEncoder(), binary_feats),\n",
    "\n",
    ")"
   ]
  },
  {
   "cell_type": "code",
   "execution_count": 7,
   "id": "9245c3e4-e70c-44a0-88ce-6cef0efad9ac",
   "metadata": {},
   "outputs": [],
   "source": [
    "# Define the metrics\n",
    "scoring = ['accuracy', 'precision', 'recall', 'f1']\n"
   ]
  },
  {
   "cell_type": "markdown",
   "id": "aca9f479-37ba-4ef5-822e-b7ee13621a02",
   "metadata": {},
   "source": [
    "Here we are using two classifiers for the initial performance calculation : \n",
    "1. KNeighborsClassifier\n",
    "2. RandomForestClassifier"
   ]
  },
  {
   "cell_type": "code",
   "execution_count": 8,
   "id": "2dbea837-d5a6-4d71-9d09-0ed5d8949c3c",
   "metadata": {},
   "outputs": [],
   "source": [
    "#Performance calculation\n",
    "results = {}\n",
    "pipe_knn = make_pipeline(\n",
    "    col_trans,\n",
    "    KNeighborsClassifier(n_neighbors=3)\n",
    ")\n",
    "results['KNeighborsClassifier'] = pd.DataFrame(cross_validate(pipe_knn, X_train,\n",
    "                                        y_train, scoring=scoring)).mean()\n",
    "\n",
    "pipe_rf = make_pipeline(\n",
    "    col_trans,\n",
    "    RandomForestClassifier(random_state=522)\n",
    ")\n",
    "results['RandomForestClassifier'] = pd.DataFrame(cross_validate(pipe_rf, X_train,\n",
    "                                                y_train, scoring=scoring)).mean()"
   ]
  },
  {
   "cell_type": "code",
   "execution_count": 9,
   "id": "92064a59-7a4c-4da8-92ad-934274a167e3",
   "metadata": {},
   "outputs": [
    {
     "data": {
      "text/html": [
       "<div>\n",
       "<style scoped>\n",
       "    .dataframe tbody tr th:only-of-type {\n",
       "        vertical-align: middle;\n",
       "    }\n",
       "\n",
       "    .dataframe tbody tr th {\n",
       "        vertical-align: top;\n",
       "    }\n",
       "\n",
       "    .dataframe thead th {\n",
       "        text-align: right;\n",
       "    }\n",
       "</style>\n",
       "<table border=\"1\" class=\"dataframe\">\n",
       "  <thead>\n",
       "    <tr style=\"text-align: right;\">\n",
       "      <th></th>\n",
       "      <th>KNeighborsClassifier</th>\n",
       "      <th>RandomForestClassifier</th>\n",
       "    </tr>\n",
       "  </thead>\n",
       "  <tbody>\n",
       "    <tr>\n",
       "      <th>fit_time</th>\n",
       "      <td>0.020732</td>\n",
       "      <td>0.327548</td>\n",
       "    </tr>\n",
       "    <tr>\n",
       "      <th>score_time</th>\n",
       "      <td>0.032610</td>\n",
       "      <td>0.047280</td>\n",
       "    </tr>\n",
       "    <tr>\n",
       "      <th>test_accuracy</th>\n",
       "      <td>0.744858</td>\n",
       "      <td>0.844858</td>\n",
       "    </tr>\n",
       "    <tr>\n",
       "      <th>test_precision</th>\n",
       "      <td>0.646825</td>\n",
       "      <td>0.799495</td>\n",
       "    </tr>\n",
       "    <tr>\n",
       "      <th>test_recall</th>\n",
       "      <td>0.295238</td>\n",
       "      <td>0.660000</td>\n",
       "    </tr>\n",
       "    <tr>\n",
       "      <th>test_f1</th>\n",
       "      <td>0.401295</td>\n",
       "      <td>0.715091</td>\n",
       "    </tr>\n",
       "  </tbody>\n",
       "</table>\n",
       "</div>"
      ],
      "text/plain": [
       "                KNeighborsClassifier  RandomForestClassifier\n",
       "fit_time                    0.020732                0.327548\n",
       "score_time                  0.032610                0.047280\n",
       "test_accuracy               0.744858                0.844858\n",
       "test_precision              0.646825                0.799495\n",
       "test_recall                 0.295238                0.660000\n",
       "test_f1                     0.401295                0.715091"
      ]
     },
     "execution_count": 9,
     "metadata": {},
     "output_type": "execute_result"
    }
   ],
   "source": [
    "pd.DataFrame(results)"
   ]
  },
  {
   "cell_type": "markdown",
   "id": "033640ac-0718-4de6-8dae-7d4231c106c0",
   "metadata": {},
   "source": [
    "We can observe that we arre getting better scores with RandomForestClassifier. To analyze further let's perform hyperparameter optimization on RandomForestClassifier."
   ]
  },
  {
   "cell_type": "code",
   "execution_count": 10,
   "id": "9f8756eb-8efb-4424-85bc-f8adb18f1207",
   "metadata": {},
   "outputs": [
    {
     "data": {
      "text/plain": [
       "RandomizedSearchCV(estimator=Pipeline(steps=[('columntransformer',\n",
       "                                              ColumnTransformer(transformers=[('standardscaler',\n",
       "                                                                               StandardScaler(),\n",
       "                                                                               ['age',\n",
       "                                                                                'creatinine_phosphokinase',\n",
       "                                                                                'ejection_fraction',\n",
       "                                                                                'platelets',\n",
       "                                                                                'serum_creatinine',\n",
       "                                                                                'serum_sodium',\n",
       "                                                                                'time']),\n",
       "                                                                              ('onehotencoder',\n",
       "                                                                               OneHotEncoder(),\n",
       "                                                                               ['sex',\n",
       "                                                                                'diabetes',\n",
       "                                                                                'high_blood_pressure',\n",
       "                                                                                'anaemia'])])),\n",
       "                                             ('randomforestclassifier',\n",
       "                                              RandomForestClassifier(random_state=522))]),\n",
       "                   n_iter=20,\n",
       "                   param_distributions={'randomforestclassifier__class_weight': [None,\n",
       "                                                                                 'balanced'],\n",
       "                                        'randomforestclassifier__max_depth': array([10, 12, 14, 16, 18]),\n",
       "                                        'randomforestclassifier__n_estimators': [10,\n",
       "                                                                                 20,\n",
       "                                                                                 40,\n",
       "                                                                                 100,\n",
       "                                                                                 200,\n",
       "                                                                                 400,\n",
       "                                                                                 800]},\n",
       "                   random_state=952, refit='precision',\n",
       "                   scoring=['accuracy', 'precision', 'recall', 'f1'])"
      ]
     },
     "execution_count": 10,
     "metadata": {},
     "output_type": "execute_result"
    }
   ],
   "source": [
    "param_dist = {\n",
    "    \"randomforestclassifier__max_depth\": np.arange(10, 20, 2),\n",
    "    \"randomforestclassifier__class_weight\": [None, \"balanced\"],\n",
    "    \"randomforestclassifier__n_estimators\": [10, 20, 40, 100, 200, 400, 800],\n",
    "}\n",
    "rand_search_rf = RandomizedSearchCV(pipe_rf, param_dist, n_iter=20, \n",
    "                                    random_state=952, scoring=scoring, refit=\"precision\")\n",
    "\n",
    "rand_search_rf.fit(X_train, y_train)"
   ]
  },
  {
   "cell_type": "code",
   "execution_count": null,
   "id": "12e3a4b4-be82-4d1b-8abc-0fa503aedf0c",
   "metadata": {},
   "outputs": [],
   "source": []
  },
  {
   "cell_type": "code",
   "execution_count": 11,
   "id": "657ea1fa-9b15-4bf4-a7c4-014b1e041755",
   "metadata": {},
   "outputs": [
    {
     "data": {
      "text/plain": [
       "array([0, 0, 0, 1, 1, 0, 1, 0, 1, 0, 1, 0, 1, 0, 0, 0, 1, 0, 0, 0, 1, 1,\n",
       "       0, 0, 0, 0, 1, 1, 0, 1, 0, 0, 0, 0, 1, 1, 1, 0, 0, 1, 0, 0, 0, 1,\n",
       "       0, 1, 0, 0, 0, 0, 0, 1, 0, 0, 0, 0, 1, 1, 0, 0, 0, 0, 0, 0, 0, 0,\n",
       "       0, 0, 0, 0, 0, 0, 0, 0, 0, 0, 0, 0, 0, 1, 0, 0, 0, 1, 0, 0, 0, 0,\n",
       "       1, 0, 1, 0, 0, 0, 0, 0, 0, 0, 1, 0, 1, 0, 0, 1, 0, 1, 0, 0, 0, 0,\n",
       "       0, 0, 1, 0, 0, 1, 1, 1, 0, 0, 0, 0, 0, 1, 1, 0, 1, 0, 1, 1, 1, 1,\n",
       "       0, 0, 0, 0, 1, 0, 0, 0, 0, 0, 1, 1, 0, 0, 0, 1, 0, 1, 0, 0, 0, 0,\n",
       "       0, 1, 1, 0, 0, 0, 0, 0, 1, 0, 0, 1, 1, 0, 0, 0, 0, 1, 0, 0, 1, 1,\n",
       "       0, 1, 1, 1, 0, 0, 0, 1, 1, 0, 1, 0, 0, 0, 1, 0, 0, 0, 0, 0, 0, 0,\n",
       "       0, 0, 0, 0, 0, 0, 0, 0, 0, 0, 0, 1, 0, 0, 0, 0, 0, 1, 1, 1, 1, 0,\n",
       "       0, 0, 0, 0, 1, 0, 1, 1, 1, 0, 0, 0, 0, 0, 0, 0, 1, 1, 0],\n",
       "      dtype=int64)"
      ]
     },
     "execution_count": 11,
     "metadata": {},
     "output_type": "execute_result"
    }
   ],
   "source": [
    "# Test the fitted model \n",
    "y_train_predict = rand_search_rf.predict(X_train)\n",
    "y_train_predict"
   ]
  },
  {
   "cell_type": "code",
   "execution_count": 12,
   "id": "9d7bd6c0-d081-4aa5-a569-766b551656be",
   "metadata": {},
   "outputs": [
    {
     "data": {
      "text/plain": [
       "array([0, 0, 0, 0, 0, 1, 1, 0, 0, 0, 0, 0, 1, 0, 1, 1, 1, 0, 1, 0, 0, 0,\n",
       "       1, 0, 1, 1, 0, 0, 0, 1, 0, 0, 0, 0, 0, 1, 0, 0, 1, 1, 0, 1, 0, 1,\n",
       "       0, 0, 0, 0, 0, 0, 1, 0, 0, 1, 0, 0, 0, 0, 1, 1], dtype=int64)"
      ]
     },
     "execution_count": 12,
     "metadata": {},
     "output_type": "execute_result"
    }
   ],
   "source": [
    "# Predict on test data\n",
    "y_predict = rand_search_rf.predict(X_test)\n",
    "y_predict"
   ]
  },
  {
   "cell_type": "code",
   "execution_count": 13,
   "id": "7c24c7eb-27e5-4170-a81f-583ddf9591b3",
   "metadata": {},
   "outputs": [
    {
     "data": {
      "text/html": [
       "<div>\n",
       "<style scoped>\n",
       "    .dataframe tbody tr th:only-of-type {\n",
       "        vertical-align: middle;\n",
       "    }\n",
       "\n",
       "    .dataframe tbody tr th {\n",
       "        vertical-align: top;\n",
       "    }\n",
       "\n",
       "    .dataframe thead th {\n",
       "        text-align: right;\n",
       "    }\n",
       "</style>\n",
       "<table border=\"1\" class=\"dataframe\">\n",
       "  <thead>\n",
       "    <tr style=\"text-align: right;\">\n",
       "      <th></th>\n",
       "      <th>Accuracy</th>\n",
       "      <th>Precision</th>\n",
       "      <th>Recall</th>\n",
       "      <th>F1 Score</th>\n",
       "    </tr>\n",
       "  </thead>\n",
       "  <tbody>\n",
       "    <tr>\n",
       "      <th>Training Data Set</th>\n",
       "      <td>1.000000</td>\n",
       "      <td>1.00</td>\n",
       "      <td>1.00</td>\n",
       "      <td>1.000000</td>\n",
       "    </tr>\n",
       "    <tr>\n",
       "      <th>Test Data Set</th>\n",
       "      <td>0.816667</td>\n",
       "      <td>0.85</td>\n",
       "      <td>0.68</td>\n",
       "      <td>0.755556</td>\n",
       "    </tr>\n",
       "  </tbody>\n",
       "</table>\n",
       "</div>"
      ],
      "text/plain": [
       "                   Accuracy  Precision  Recall  F1 Score\n",
       "Training Data Set  1.000000       1.00    1.00  1.000000\n",
       "Test Data Set      0.816667       0.85    0.68  0.755556"
      ]
     },
     "execution_count": 13,
     "metadata": {},
     "output_type": "execute_result"
    }
   ],
   "source": [
    "# Table of Metrics for positive class for train and test set\n",
    "performance_df = pd.DataFrame(\n",
    "    {\n",
    "        \"Accuracy\": [accuracy_score(y_train, y_train_predict), accuracy_score(y_test, y_predict)],\n",
    "        \"Precision\": [precision_score(y_train, y_train_predict), precision_score(y_test, y_predict)],\n",
    "        \"Recall\": [recall_score(y_train, y_train_predict), recall_score(y_test, y_predict)],\n",
    "        \"F1 Score\": [f1_score(y_train, y_train_predict), f1_score(y_test, y_predict)]\n",
    "    },\n",
    "    index=[\"Training Data Set\", \"Test Data Set\"])\n",
    "performance_df"
   ]
  },
  {
   "cell_type": "code",
   "execution_count": 14,
   "id": "f149c6da-4edd-4057-9af1-344f52ba4f43",
   "metadata": {},
   "outputs": [
    {
     "data": {
      "image/png": "[encoded data removed]",
      "text/plain": [
       "<Figure size 432x288 with 2 Axes>"
      ]
     },
     "metadata": {
      "needs_background": "light"
     },
     "output_type": "display_data"
    }
   ],
   "source": [
    "from sklearn.metrics import ConfusionMatrixDisplay  # Recommended method in sklearn 1.0\n",
    "\n",
    "pipe_rf.fit(X_train, y_train)\n",
    "cm = ConfusionMatrixDisplay.from_estimator(\n",
    "    pipe_rf, X_train, y_train, values_format=\"d\", display_labels=[\"No Death Event\", \"Death Event\"]\n",
    ")\n",
    "\n"
   ]
  },
  {
   "cell_type": "markdown",
   "id": "c05563b8-3440-4b9f-9a7d-878e433eba9e",
   "metadata": {},
   "source": [
    "Visualizing the confusion  matrix of test data :"
   ]
  },
  {
   "cell_type": "code",
   "execution_count": 15,
   "id": "66742fd3-c892-4923-baf8-b0821f7fdb5f",
   "metadata": {},
   "outputs": [
    {
     "data": {
      "image/png": "[encoded data removed]",
      "text/plain": [
       "<Figure size 432x288 with 2 Axes>"
      ]
     },
     "metadata": {
      "needs_background": "light"
     },
     "output_type": "display_data"
    }
   ],
   "source": [
    "# Confusion Matrix for the test set\n",
    "\n",
    "pipe_rf.fit(X_test, y_test)\n",
    "cm = ConfusionMatrixDisplay.from_estimator(\n",
    "    pipe_rf, X_train, y_train, values_format=\"d\", display_labels=[\"No Death Event\", \"Death Event\"]\n",
    ")"
   ]
  },
  {
   "cell_type": "markdown",
   "id": "4f07a2b6-2f73-455b-a585-79d6be641583",
   "metadata": {},
   "source": [
    "Test the model :"
   ]
  },
  {
   "cell_type": "code",
   "execution_count": 16,
   "id": "0b8c24e5-c438-426d-a797-93d3f40464ba",
   "metadata": {},
   "outputs": [
    {
     "data": {
      "text/html": [
       "<div>\n",
       "<style scoped>\n",
       "    .dataframe tbody tr th:only-of-type {\n",
       "        vertical-align: middle;\n",
       "    }\n",
       "\n",
       "    .dataframe tbody tr th {\n",
       "        vertical-align: top;\n",
       "    }\n",
       "\n",
       "    .dataframe thead th {\n",
       "        text-align: right;\n",
       "    }\n",
       "</style>\n",
       "<table border=\"1\" class=\"dataframe\">\n",
       "  <thead>\n",
       "    <tr style=\"text-align: right;\">\n",
       "      <th></th>\n",
       "      <th>precision</th>\n",
       "      <th>recall</th>\n",
       "      <th>threshold</th>\n",
       "      <th>F1 Score</th>\n",
       "    </tr>\n",
       "  </thead>\n",
       "  <tbody>\n",
       "    <tr>\n",
       "      <th>0</th>\n",
       "      <td>1.0</td>\n",
       "      <td>1.000000</td>\n",
       "      <td>0.6425</td>\n",
       "      <td>1.000000</td>\n",
       "    </tr>\n",
       "    <tr>\n",
       "      <th>1</th>\n",
       "      <td>1.0</td>\n",
       "      <td>0.985915</td>\n",
       "      <td>0.6500</td>\n",
       "      <td>0.992908</td>\n",
       "    </tr>\n",
       "    <tr>\n",
       "      <th>2</th>\n",
       "      <td>1.0</td>\n",
       "      <td>0.971831</td>\n",
       "      <td>0.6775</td>\n",
       "      <td>0.985714</td>\n",
       "    </tr>\n",
       "    <tr>\n",
       "      <th>3</th>\n",
       "      <td>1.0</td>\n",
       "      <td>0.957746</td>\n",
       "      <td>0.6825</td>\n",
       "      <td>0.978417</td>\n",
       "    </tr>\n",
       "    <tr>\n",
       "      <th>4</th>\n",
       "      <td>1.0</td>\n",
       "      <td>0.943662</td>\n",
       "      <td>0.6850</td>\n",
       "      <td>0.971014</td>\n",
       "    </tr>\n",
       "    <tr>\n",
       "      <th>5</th>\n",
       "      <td>1.0</td>\n",
       "      <td>0.929577</td>\n",
       "      <td>0.6900</td>\n",
       "      <td>0.963504</td>\n",
       "    </tr>\n",
       "    <tr>\n",
       "      <th>6</th>\n",
       "      <td>1.0</td>\n",
       "      <td>0.915493</td>\n",
       "      <td>0.7050</td>\n",
       "      <td>0.955882</td>\n",
       "    </tr>\n",
       "    <tr>\n",
       "      <th>7</th>\n",
       "      <td>1.0</td>\n",
       "      <td>0.901408</td>\n",
       "      <td>0.7100</td>\n",
       "      <td>0.948148</td>\n",
       "    </tr>\n",
       "    <tr>\n",
       "      <th>8</th>\n",
       "      <td>1.0</td>\n",
       "      <td>0.873239</td>\n",
       "      <td>0.7150</td>\n",
       "      <td>0.932331</td>\n",
       "    </tr>\n",
       "    <tr>\n",
       "      <th>9</th>\n",
       "      <td>1.0</td>\n",
       "      <td>0.845070</td>\n",
       "      <td>0.7250</td>\n",
       "      <td>0.916031</td>\n",
       "    </tr>\n",
       "    <tr>\n",
       "      <th>10</th>\n",
       "      <td>1.0</td>\n",
       "      <td>0.830986</td>\n",
       "      <td>0.7275</td>\n",
       "      <td>0.907692</td>\n",
       "    </tr>\n",
       "    <tr>\n",
       "      <th>11</th>\n",
       "      <td>1.0</td>\n",
       "      <td>0.816901</td>\n",
       "      <td>0.7425</td>\n",
       "      <td>0.899225</td>\n",
       "    </tr>\n",
       "    <tr>\n",
       "      <th>12</th>\n",
       "      <td>1.0</td>\n",
       "      <td>0.802817</td>\n",
       "      <td>0.7500</td>\n",
       "      <td>0.890625</td>\n",
       "    </tr>\n",
       "    <tr>\n",
       "      <th>13</th>\n",
       "      <td>1.0</td>\n",
       "      <td>0.774648</td>\n",
       "      <td>0.7600</td>\n",
       "      <td>0.873016</td>\n",
       "    </tr>\n",
       "    <tr>\n",
       "      <th>14</th>\n",
       "      <td>1.0</td>\n",
       "      <td>0.760563</td>\n",
       "      <td>0.7675</td>\n",
       "      <td>0.864000</td>\n",
       "    </tr>\n",
       "    <tr>\n",
       "      <th>15</th>\n",
       "      <td>1.0</td>\n",
       "      <td>0.746479</td>\n",
       "      <td>0.7725</td>\n",
       "      <td>0.854839</td>\n",
       "    </tr>\n",
       "    <tr>\n",
       "      <th>16</th>\n",
       "      <td>1.0</td>\n",
       "      <td>0.732394</td>\n",
       "      <td>0.7750</td>\n",
       "      <td>0.845528</td>\n",
       "    </tr>\n",
       "    <tr>\n",
       "      <th>17</th>\n",
       "      <td>1.0</td>\n",
       "      <td>0.704225</td>\n",
       "      <td>0.7850</td>\n",
       "      <td>0.826446</td>\n",
       "    </tr>\n",
       "    <tr>\n",
       "      <th>18</th>\n",
       "      <td>1.0</td>\n",
       "      <td>0.676056</td>\n",
       "      <td>0.8050</td>\n",
       "      <td>0.806723</td>\n",
       "    </tr>\n",
       "    <tr>\n",
       "      <th>19</th>\n",
       "      <td>1.0</td>\n",
       "      <td>0.661972</td>\n",
       "      <td>0.8125</td>\n",
       "      <td>0.796610</td>\n",
       "    </tr>\n",
       "    <tr>\n",
       "      <th>20</th>\n",
       "      <td>1.0</td>\n",
       "      <td>0.647887</td>\n",
       "      <td>0.8175</td>\n",
       "      <td>0.786325</td>\n",
       "    </tr>\n",
       "    <tr>\n",
       "      <th>21</th>\n",
       "      <td>1.0</td>\n",
       "      <td>0.633803</td>\n",
       "      <td>0.8300</td>\n",
       "      <td>0.775862</td>\n",
       "    </tr>\n",
       "    <tr>\n",
       "      <th>22</th>\n",
       "      <td>1.0</td>\n",
       "      <td>0.619718</td>\n",
       "      <td>0.8325</td>\n",
       "      <td>0.765217</td>\n",
       "    </tr>\n",
       "    <tr>\n",
       "      <th>23</th>\n",
       "      <td>1.0</td>\n",
       "      <td>0.605634</td>\n",
       "      <td>0.8375</td>\n",
       "      <td>0.754386</td>\n",
       "    </tr>\n",
       "    <tr>\n",
       "      <th>24</th>\n",
       "      <td>1.0</td>\n",
       "      <td>0.591549</td>\n",
       "      <td>0.8400</td>\n",
       "      <td>0.743363</td>\n",
       "    </tr>\n",
       "    <tr>\n",
       "      <th>25</th>\n",
       "      <td>1.0</td>\n",
       "      <td>0.563380</td>\n",
       "      <td>0.8450</td>\n",
       "      <td>0.720721</td>\n",
       "    </tr>\n",
       "    <tr>\n",
       "      <th>26</th>\n",
       "      <td>1.0</td>\n",
       "      <td>0.535211</td>\n",
       "      <td>0.8475</td>\n",
       "      <td>0.697248</td>\n",
       "    </tr>\n",
       "    <tr>\n",
       "      <th>27</th>\n",
       "      <td>1.0</td>\n",
       "      <td>0.521127</td>\n",
       "      <td>0.8525</td>\n",
       "      <td>0.685185</td>\n",
       "    </tr>\n",
       "    <tr>\n",
       "      <th>28</th>\n",
       "      <td>1.0</td>\n",
       "      <td>0.507042</td>\n",
       "      <td>0.8550</td>\n",
       "      <td>0.672897</td>\n",
       "    </tr>\n",
       "    <tr>\n",
       "      <th>29</th>\n",
       "      <td>1.0</td>\n",
       "      <td>0.492958</td>\n",
       "      <td>0.8575</td>\n",
       "      <td>0.660377</td>\n",
       "    </tr>\n",
       "    <tr>\n",
       "      <th>30</th>\n",
       "      <td>1.0</td>\n",
       "      <td>0.464789</td>\n",
       "      <td>0.8600</td>\n",
       "      <td>0.634615</td>\n",
       "    </tr>\n",
       "    <tr>\n",
       "      <th>31</th>\n",
       "      <td>1.0</td>\n",
       "      <td>0.450704</td>\n",
       "      <td>0.8625</td>\n",
       "      <td>0.621359</td>\n",
       "    </tr>\n",
       "    <tr>\n",
       "      <th>32</th>\n",
       "      <td>1.0</td>\n",
       "      <td>0.436620</td>\n",
       "      <td>0.8650</td>\n",
       "      <td>0.607843</td>\n",
       "    </tr>\n",
       "    <tr>\n",
       "      <th>33</th>\n",
       "      <td>1.0</td>\n",
       "      <td>0.422535</td>\n",
       "      <td>0.8675</td>\n",
       "      <td>0.594059</td>\n",
       "    </tr>\n",
       "    <tr>\n",
       "      <th>34</th>\n",
       "      <td>1.0</td>\n",
       "      <td>0.408451</td>\n",
       "      <td>0.8700</td>\n",
       "      <td>0.580000</td>\n",
       "    </tr>\n",
       "    <tr>\n",
       "      <th>35</th>\n",
       "      <td>1.0</td>\n",
       "      <td>0.380282</td>\n",
       "      <td>0.8750</td>\n",
       "      <td>0.551020</td>\n",
       "    </tr>\n",
       "    <tr>\n",
       "      <th>36</th>\n",
       "      <td>1.0</td>\n",
       "      <td>0.352113</td>\n",
       "      <td>0.8775</td>\n",
       "      <td>0.520833</td>\n",
       "    </tr>\n",
       "    <tr>\n",
       "      <th>37</th>\n",
       "      <td>1.0</td>\n",
       "      <td>0.323944</td>\n",
       "      <td>0.8800</td>\n",
       "      <td>0.489362</td>\n",
       "    </tr>\n",
       "    <tr>\n",
       "      <th>38</th>\n",
       "      <td>1.0</td>\n",
       "      <td>0.281690</td>\n",
       "      <td>0.8825</td>\n",
       "      <td>0.439560</td>\n",
       "    </tr>\n",
       "    <tr>\n",
       "      <th>39</th>\n",
       "      <td>1.0</td>\n",
       "      <td>0.267606</td>\n",
       "      <td>0.8875</td>\n",
       "      <td>0.422222</td>\n",
       "    </tr>\n",
       "    <tr>\n",
       "      <th>40</th>\n",
       "      <td>1.0</td>\n",
       "      <td>0.253521</td>\n",
       "      <td>0.8925</td>\n",
       "      <td>0.404494</td>\n",
       "    </tr>\n",
       "    <tr>\n",
       "      <th>41</th>\n",
       "      <td>1.0</td>\n",
       "      <td>0.239437</td>\n",
       "      <td>0.8950</td>\n",
       "      <td>0.386364</td>\n",
       "    </tr>\n",
       "    <tr>\n",
       "      <th>42</th>\n",
       "      <td>1.0</td>\n",
       "      <td>0.211268</td>\n",
       "      <td>0.9000</td>\n",
       "      <td>0.348837</td>\n",
       "    </tr>\n",
       "    <tr>\n",
       "      <th>43</th>\n",
       "      <td>1.0</td>\n",
       "      <td>0.169014</td>\n",
       "      <td>0.9050</td>\n",
       "      <td>0.289157</td>\n",
       "    </tr>\n",
       "    <tr>\n",
       "      <th>44</th>\n",
       "      <td>1.0</td>\n",
       "      <td>0.154930</td>\n",
       "      <td>0.9225</td>\n",
       "      <td>0.268293</td>\n",
       "    </tr>\n",
       "    <tr>\n",
       "      <th>45</th>\n",
       "      <td>1.0</td>\n",
       "      <td>0.126761</td>\n",
       "      <td>0.9250</td>\n",
       "      <td>0.225000</td>\n",
       "    </tr>\n",
       "    <tr>\n",
       "      <th>46</th>\n",
       "      <td>1.0</td>\n",
       "      <td>0.112676</td>\n",
       "      <td>0.9400</td>\n",
       "      <td>0.202532</td>\n",
       "    </tr>\n",
       "    <tr>\n",
       "      <th>47</th>\n",
       "      <td>1.0</td>\n",
       "      <td>0.084507</td>\n",
       "      <td>0.9425</td>\n",
       "      <td>0.155844</td>\n",
       "    </tr>\n",
       "    <tr>\n",
       "      <th>48</th>\n",
       "      <td>1.0</td>\n",
       "      <td>0.070423</td>\n",
       "      <td>0.9475</td>\n",
       "      <td>0.131579</td>\n",
       "    </tr>\n",
       "    <tr>\n",
       "      <th>49</th>\n",
       "      <td>1.0</td>\n",
       "      <td>0.056338</td>\n",
       "      <td>0.9500</td>\n",
       "      <td>0.106667</td>\n",
       "    </tr>\n",
       "    <tr>\n",
       "      <th>50</th>\n",
       "      <td>1.0</td>\n",
       "      <td>0.042254</td>\n",
       "      <td>0.9800</td>\n",
       "      <td>0.081081</td>\n",
       "    </tr>\n",
       "    <tr>\n",
       "      <th>51</th>\n",
       "      <td>1.0</td>\n",
       "      <td>0.014085</td>\n",
       "      <td>0.9900</td>\n",
       "      <td>0.027778</td>\n",
       "    </tr>\n",
       "    <tr>\n",
       "      <th>52</th>\n",
       "      <td>1.0</td>\n",
       "      <td>0.000000</td>\n",
       "      <td>NaN</td>\n",
       "      <td>0.000000</td>\n",
       "    </tr>\n",
       "  </tbody>\n",
       "</table>\n",
       "</div>"
      ],
      "text/plain": [
       "    precision    recall  threshold  F1 Score\n",
       "0         1.0  1.000000     0.6425  1.000000\n",
       "1         1.0  0.985915     0.6500  0.992908\n",
       "2         1.0  0.971831     0.6775  0.985714\n",
       "3         1.0  0.957746     0.6825  0.978417\n",
       "4         1.0  0.943662     0.6850  0.971014\n",
       "5         1.0  0.929577     0.6900  0.963504\n",
       "6         1.0  0.915493     0.7050  0.955882\n",
       "7         1.0  0.901408     0.7100  0.948148\n",
       "8         1.0  0.873239     0.7150  0.932331\n",
       "9         1.0  0.845070     0.7250  0.916031\n",
       "10        1.0  0.830986     0.7275  0.907692\n",
       "11        1.0  0.816901     0.7425  0.899225\n",
       "12        1.0  0.802817     0.7500  0.890625\n",
       "13        1.0  0.774648     0.7600  0.873016\n",
       "14        1.0  0.760563     0.7675  0.864000\n",
       "15        1.0  0.746479     0.7725  0.854839\n",
       "16        1.0  0.732394     0.7750  0.845528\n",
       "17        1.0  0.704225     0.7850  0.826446\n",
       "18        1.0  0.676056     0.8050  0.806723\n",
       "19        1.0  0.661972     0.8125  0.796610\n",
       "20        1.0  0.647887     0.8175  0.786325\n",
       "21        1.0  0.633803     0.8300  0.775862\n",
       "22        1.0  0.619718     0.8325  0.765217\n",
       "23        1.0  0.605634     0.8375  0.754386\n",
       "24        1.0  0.591549     0.8400  0.743363\n",
       "25        1.0  0.563380     0.8450  0.720721\n",
       "26        1.0  0.535211     0.8475  0.697248\n",
       "27        1.0  0.521127     0.8525  0.685185\n",
       "28        1.0  0.507042     0.8550  0.672897\n",
       "29        1.0  0.492958     0.8575  0.660377\n",
       "30        1.0  0.464789     0.8600  0.634615\n",
       "31        1.0  0.450704     0.8625  0.621359\n",
       "32        1.0  0.436620     0.8650  0.607843\n",
       "33        1.0  0.422535     0.8675  0.594059\n",
       "34        1.0  0.408451     0.8700  0.580000\n",
       "35        1.0  0.380282     0.8750  0.551020\n",
       "36        1.0  0.352113     0.8775  0.520833\n",
       "37        1.0  0.323944     0.8800  0.489362\n",
       "38        1.0  0.281690     0.8825  0.439560\n",
       "39        1.0  0.267606     0.8875  0.422222\n",
       "40        1.0  0.253521     0.8925  0.404494\n",
       "41        1.0  0.239437     0.8950  0.386364\n",
       "42        1.0  0.211268     0.9000  0.348837\n",
       "43        1.0  0.169014     0.9050  0.289157\n",
       "44        1.0  0.154930     0.9225  0.268293\n",
       "45        1.0  0.126761     0.9250  0.225000\n",
       "46        1.0  0.112676     0.9400  0.202532\n",
       "47        1.0  0.084507     0.9425  0.155844\n",
       "48        1.0  0.070423     0.9475  0.131579\n",
       "49        1.0  0.056338     0.9500  0.106667\n",
       "50        1.0  0.042254     0.9800  0.081081\n",
       "51        1.0  0.014085     0.9900  0.027778\n",
       "52        1.0  0.000000        NaN  0.000000"
      ]
     },
     "execution_count": 16,
     "metadata": {},
     "output_type": "execute_result"
    }
   ],
   "source": [
    "# Table of Metrics for train set\n",
    "\n",
    "PR_curve_df = pd.DataFrame(precision_recall_curve(y_train, rand_search_rf.predict_proba(X_train)[:,1],), index=[\"precision\",\"recall\",\"threshold\"]).T\n",
    "PR_curve_df['F1 Score'] =  2 * (PR_curve_df['precision'] * PR_curve_df['recall'])/(PR_curve_df['precision'] + PR_curve_df['recall'])\n",
    "PR_curve_df"
   ]
  },
  {
   "cell_type": "code",
   "execution_count": 17,
   "id": "2d73265a-440a-40ac-b96e-3a4abed5be14",
   "metadata": {},
   "outputs": [
    {
     "name": "stdout",
     "output_type": "stream",
     "text": [
      "Average precision for the  Random Forest Classifier:\n",
      "1.0\n"
     ]
    }
   ],
   "source": [
    "ap_forest = average_precision_score(y_test, pipe_rf.predict_proba(X_test)[:, 1])\n",
    "print(\"Average precision for the  Random Forest Classifier:\")\n",
    "print(ap_forest)"
   ]
  },
  {
   "cell_type": "code",
   "execution_count": 18,
   "id": "77a7be1d-8444-4bb6-b060-d5005af30fb2",
   "metadata": {},
   "outputs": [
    {
     "data": {
      "text/html": [
       "<div>\n",
       "<style scoped>\n",
       "    .dataframe tbody tr th:only-of-type {\n",
       "        vertical-align: middle;\n",
       "    }\n",
       "\n",
       "    .dataframe tbody tr th {\n",
       "        vertical-align: top;\n",
       "    }\n",
       "\n",
       "    .dataframe thead th {\n",
       "        text-align: right;\n",
       "    }\n",
       "</style>\n",
       "<table border=\"1\" class=\"dataframe\">\n",
       "  <thead>\n",
       "    <tr style=\"text-align: right;\">\n",
       "      <th></th>\n",
       "      <th>precision</th>\n",
       "      <th>recall</th>\n",
       "      <th>threshold</th>\n",
       "      <th>F1 Score</th>\n",
       "    </tr>\n",
       "  </thead>\n",
       "  <tbody>\n",
       "    <tr>\n",
       "      <th>0</th>\n",
       "      <td>1.0</td>\n",
       "      <td>1.0</td>\n",
       "      <td>0.6425</td>\n",
       "      <td>1.0</td>\n",
       "    </tr>\n",
       "  </tbody>\n",
       "</table>\n",
       "</div>"
      ],
      "text/plain": [
       "   precision  recall  threshold  F1 Score\n",
       "0        1.0     1.0     0.6425       1.0"
      ]
     },
     "execution_count": 18,
     "metadata": {},
     "output_type": "execute_result"
    }
   ],
   "source": [
    "# Threshold to get best F1 score\n",
    "maximum_f1_df = PR_curve_df.iloc[PR_curve_df[\"F1 Score\"].idxmax()].to_frame().T\n",
    "best_thres = maximum_f1_df['threshold'].iloc[0]\n",
    "maximum_f1_df"
   ]
  },
  {
   "cell_type": "code",
   "execution_count": 19,
   "id": "2d1e5f1c-d987-46b4-8d80-afd998b7f160",
   "metadata": {},
   "outputs": [
    {
     "data": {
      "application/vnd.vegalite.v4+json": {
       "$schema": "https://vega.github.io/schema/vega-lite/v4.8.1.json",
       "config": {
        "view": {
         "continuousHeight": 300,
         "continuousWidth": 400
        }
       },
       "datasets": {
        "data-8f17cf782e9bf5df472356544d629cb2": [
         {
          "F1 Score": 1,
          "precision": 1,
          "recall": 1,
          "threshold": 0.6425
         }
        ],
        "data-f9559839b249e942ac8bb35df39af03c": [
         {
          "F1 Score": 1,
          "precision": 1,
          "recall": 1,
          "threshold": 0.6425
         },
         {
          "F1 Score": 0.9929078014184397,
          "precision": 1,
          "recall": 0.9859154929577465,
          "threshold": 0.65
         },
         {
          "F1 Score": 0.9857142857142858,
          "precision": 1,
          "recall": 0.971830985915493,
          "threshold": 0.6775
         },
         {
          "F1 Score": 0.9784172661870503,
          "precision": 1,
          "recall": 0.9577464788732394,
          "threshold": 0.6825
         },
         {
          "F1 Score": 0.9710144927536231,
          "precision": 1,
          "recall": 0.9436619718309859,
          "threshold": 0.685
         },
         {
          "F1 Score": 0.9635036496350364,
          "precision": 1,
          "recall": 0.9295774647887324,
          "threshold": 0.69
         },
         {
          "F1 Score": 0.9558823529411764,
          "precision": 1,
          "recall": 0.9154929577464789,
          "threshold": 0.705
         },
         {
          "F1 Score": 0.9481481481481481,
          "precision": 1,
          "recall": 0.9014084507042254,
          "threshold": 0.71
         },
         {
          "F1 Score": 0.9323308270676691,
          "precision": 1,
          "recall": 0.8732394366197183,
          "threshold": 0.715
         },
         {
          "F1 Score": 0.916030534351145,
          "precision": 1,
          "recall": 0.8450704225352113,
          "threshold": 0.725
         },
         {
          "F1 Score": 0.9076923076923077,
          "precision": 1,
          "recall": 0.8309859154929577,
          "threshold": 0.7275
         },
         {
          "F1 Score": 0.8992248062015504,
          "precision": 1,
          "recall": 0.8169014084507042,
          "threshold": 0.7425
         },
         {
          "F1 Score": 0.890625,
          "precision": 1,
          "recall": 0.8028169014084507,
          "threshold": 0.75
         },
         {
          "F1 Score": 0.873015873015873,
          "precision": 1,
          "recall": 0.7746478873239436,
          "threshold": 0.76
         },
         {
          "F1 Score": 0.864,
          "precision": 1,
          "recall": 0.7605633802816901,
          "threshold": 0.7675
         },
         {
          "F1 Score": 0.8548387096774194,
          "precision": 1,
          "recall": 0.7464788732394366,
          "threshold": 0.7725
         },
         {
          "F1 Score": 0.8455284552845529,
          "precision": 1,
          "recall": 0.7323943661971831,
          "threshold": 0.775
         },
         {
          "F1 Score": 0.8264462809917354,
          "precision": 1,
          "recall": 0.704225352112676,
          "threshold": 0.785
         },
         {
          "F1 Score": 0.8067226890756303,
          "precision": 1,
          "recall": 0.676056338028169,
          "threshold": 0.805
         },
         {
          "F1 Score": 0.7966101694915254,
          "precision": 1,
          "recall": 0.6619718309859155,
          "threshold": 0.8125
         },
         {
          "F1 Score": 0.7863247863247863,
          "precision": 1,
          "recall": 0.647887323943662,
          "threshold": 0.8175
         },
         {
          "F1 Score": 0.7758620689655172,
          "precision": 1,
          "recall": 0.6338028169014085,
          "threshold": 0.83
         },
         {
          "F1 Score": 0.7652173913043477,
          "precision": 1,
          "recall": 0.6197183098591549,
          "threshold": 0.8325
         },
         {
          "F1 Score": 0.7543859649122806,
          "precision": 1,
          "recall": 0.6056338028169014,
          "threshold": 0.8375
         },
         {
          "F1 Score": 0.743362831858407,
          "precision": 1,
          "recall": 0.5915492957746479,
          "threshold": 0.84
         },
         {
          "F1 Score": 0.7207207207207207,
          "precision": 1,
          "recall": 0.5633802816901409,
          "threshold": 0.845
         },
         {
          "F1 Score": 0.6972477064220183,
          "precision": 1,
          "recall": 0.5352112676056338,
          "threshold": 0.8475
         },
         {
          "F1 Score": 0.6851851851851851,
          "precision": 1,
          "recall": 0.5211267605633803,
          "threshold": 0.8525
         },
         {
          "F1 Score": 0.6728971962616822,
          "precision": 1,
          "recall": 0.5070422535211268,
          "threshold": 0.855
         },
         {
          "F1 Score": 0.660377358490566,
          "precision": 1,
          "recall": 0.49295774647887325,
          "threshold": 0.8575
         },
         {
          "F1 Score": 0.6346153846153846,
          "precision": 1,
          "recall": 0.4647887323943662,
          "threshold": 0.86
         },
         {
          "F1 Score": 0.6213592233009708,
          "precision": 1,
          "recall": 0.4507042253521127,
          "threshold": 0.8625
         },
         {
          "F1 Score": 0.607843137254902,
          "precision": 1,
          "recall": 0.43661971830985913,
          "threshold": 0.865
         },
         {
          "F1 Score": 0.5940594059405941,
          "precision": 1,
          "recall": 0.4225352112676056,
          "threshold": 0.8675
         },
         {
          "F1 Score": 0.5800000000000001,
          "precision": 1,
          "recall": 0.4084507042253521,
          "threshold": 0.87
         },
         {
          "F1 Score": 0.5510204081632654,
          "precision": 1,
          "recall": 0.38028169014084506,
          "threshold": 0.875
         },
         {
          "F1 Score": 0.5208333333333333,
          "precision": 1,
          "recall": 0.352112676056338,
          "threshold": 0.8775
         },
         {
          "F1 Score": 0.4893617021276596,
          "precision": 1,
          "recall": 0.323943661971831,
          "threshold": 0.88
         },
         {
          "F1 Score": 0.43956043956043955,
          "precision": 1,
          "recall": 0.28169014084507044,
          "threshold": 0.8825
         },
         {
          "F1 Score": 0.42222222222222217,
          "precision": 1,
          "recall": 0.2676056338028169,
          "threshold": 0.8875
         },
         {
          "F1 Score": 0.40449438202247184,
          "precision": 1,
          "recall": 0.2535211267605634,
          "threshold": 0.8925
         },
         {
          "F1 Score": 0.38636363636363635,
          "precision": 1,
          "recall": 0.23943661971830985,
          "threshold": 0.895
         },
         {
          "F1 Score": 0.3488372093023256,
          "precision": 1,
          "recall": 0.2112676056338028,
          "threshold": 0.9
         },
         {
          "F1 Score": 0.2891566265060241,
          "precision": 1,
          "recall": 0.16901408450704225,
          "threshold": 0.905
         },
         {
          "F1 Score": 0.26829268292682923,
          "precision": 1,
          "recall": 0.15492957746478872,
          "threshold": 0.9225
         },
         {
          "F1 Score": 0.22499999999999998,
          "precision": 1,
          "recall": 0.1267605633802817,
          "threshold": 0.925
         },
         {
          "F1 Score": 0.20253164556962025,
          "precision": 1,
          "recall": 0.11267605633802817,
          "threshold": 0.94
         },
         {
          "F1 Score": 0.15584415584415587,
          "precision": 1,
          "recall": 0.08450704225352113,
          "threshold": 0.9425
         },
         {
          "F1 Score": 0.13157894736842107,
          "precision": 1,
          "recall": 0.07042253521126761,
          "threshold": 0.9475
         },
         {
          "F1 Score": 0.10666666666666667,
          "precision": 1,
          "recall": 0.056338028169014086,
          "threshold": 0.95
         },
         {
          "F1 Score": 0.08108108108108109,
          "precision": 1,
          "recall": 0.04225352112676056,
          "threshold": 0.98
         },
         {
          "F1 Score": 0.02777777777777778,
          "precision": 1,
          "recall": 0.014084507042253521,
          "threshold": 0.99
         },
         {
          "F1 Score": 0,
          "precision": 1,
          "recall": 0,
          "threshold": null
         }
        ]
       },
       "layer": [
        {
         "data": {
          "name": "data-f9559839b249e942ac8bb35df39af03c"
         },
         "encoding": {
          "color": {
           "field": "F1 Score",
           "type": "quantitative"
          },
          "x": {
           "field": "recall",
           "type": "quantitative"
          },
          "y": {
           "field": "precision",
           "type": "quantitative"
          }
         },
         "mark": "circle"
        },
        {
         "data": {
          "name": "data-8f17cf782e9bf5df472356544d629cb2"
         },
         "encoding": {
          "x": {
           "field": "recall",
           "type": "quantitative"
          },
          "y": {
           "field": "precision",
           "type": "quantitative"
          }
         },
         "mark": {
          "color": "red",
          "opacity": 1,
          "size": 100,
          "type": "circle"
         },
         "title": "PR curve with best threshold"
        },
        {
         "data": {
          "name": "data-8f17cf782e9bf5df472356544d629cb2"
         },
         "encoding": {
          "text": {
           "field": "threshold",
           "format": ".2f",
           "type": "quantitative"
          },
          "x": {
           "field": "recall",
           "type": "quantitative"
          },
          "y": {
           "field": "precision",
           "type": "quantitative"
          }
         },
         "mark": {
          "align": "left",
          "baseline": "middle",
          "dx": 15,
          "type": "text"
         },
         "title": "PR curve with best threshold"
        }
       ]
      },
      "image/png": "[encoded data removed]",
      "text/plain": [
       "<VegaLite 4 object>\n",
       "\n",
       "If you see this message, it means the renderer has not been properly enabled\n",
       "for the frontend that you are using. For more information, see\n",
       "https://altair-viz.github.io/user_guide/troubleshooting.html\n"
      ]
     },
     "execution_count": 19,
     "metadata": {},
     "output_type": "execute_result"
    }
   ],
   "source": [
    "# PR curve with best threshold\n",
    "\n",
    "PR_curve = alt.Chart(PR_curve_df).mark_circle().encode(\n",
    "    x=\"recall\",\n",
    "    y=\"precision\",\n",
    "    color=\"F1 Score\"\n",
    ")\n",
    "max_f1_point = alt.Chart(maximum_f1_df, \n",
    "                         title = 'PR curve with best threshold',).mark_circle(\n",
    "    color=\"red\", size=100, opacity=1).encode(\n",
    "    x=\"recall\",\n",
    "    y=\"precision\"\n",
    ")\n",
    "\n",
    "text = max_f1_point.mark_text(\n",
    "    align='left',\n",
    "    baseline='middle',\n",
    "    dx=15).encode(text= alt.Text(\"threshold\", format = \".2f\"))\n",
    "\n",
    "PR_curve_plot = PR_curve + max_f1_point + text\n",
    "PR_curve_plot"
   ]
  },
  {
   "cell_type": "code",
   "execution_count": 20,
   "id": "d5f659b3-9e27-4c5d-a157-2c3daa8aeb70",
   "metadata": {},
   "outputs": [],
   "source": [
    "# Evaluate Model with test data set with best_thres\n",
    "y_pred_train_thres = rand_search_rf.predict_proba(X_train)[:, 1] > best_thres\n",
    "y_pred_thres = rand_search_rf.predict_proba(X_test)[:, 1] > best_thres"
   ]
  },
  {
   "cell_type": "code",
   "execution_count": 21,
   "id": "1cb82856-d73a-4256-b109-e6a1205cd5b8",
   "metadata": {},
   "outputs": [],
   "source": [
    "# Table of Metrics for positive class with best_thres\n",
    "model_perf_thres_df = pd.DataFrame(\n",
    "    {\n",
    "        \"Accuracy\": [accuracy_score(y_train, y_pred_train_thres), accuracy_score(y_test, y_pred_thres)],\n",
    "        \"Precision\": [precision_score(y_train, y_pred_train_thres), precision_score(y_test, y_pred_thres)],\n",
    "        \"Recall\": [recall_score(y_train, y_pred_train_thres), recall_score(y_test, y_pred_thres)],\n",
    "        \"F1 Score\": [f1_score(y_train, y_pred_train_thres), f1_score(y_test, y_pred_thres)]\n",
    "    },\n",
    "    index=[\"Training data with best threshold\", \"Test Data with best threshold\"])"
   ]
  },
  {
   "cell_type": "code",
   "execution_count": 22,
   "id": "7470dc05-a6b5-4fa9-8d84-b34450e8a7fd",
   "metadata": {},
   "outputs": [
    {
     "data": {
      "text/html": [
       "<div>\n",
       "<style scoped>\n",
       "    .dataframe tbody tr th:only-of-type {\n",
       "        vertical-align: middle;\n",
       "    }\n",
       "\n",
       "    .dataframe tbody tr th {\n",
       "        vertical-align: top;\n",
       "    }\n",
       "\n",
       "    .dataframe thead th {\n",
       "        text-align: right;\n",
       "    }\n",
       "</style>\n",
       "<table border=\"1\" class=\"dataframe\">\n",
       "  <thead>\n",
       "    <tr style=\"text-align: right;\">\n",
       "      <th></th>\n",
       "      <th>Accuracy</th>\n",
       "      <th>Precision</th>\n",
       "      <th>Recall</th>\n",
       "      <th>F1 Score</th>\n",
       "    </tr>\n",
       "  </thead>\n",
       "  <tbody>\n",
       "    <tr>\n",
       "      <th>Training Data Set</th>\n",
       "      <td>1.000000</td>\n",
       "      <td>1.000000</td>\n",
       "      <td>1.000000</td>\n",
       "      <td>1.000000</td>\n",
       "    </tr>\n",
       "    <tr>\n",
       "      <th>Test Data Set</th>\n",
       "      <td>0.816667</td>\n",
       "      <td>0.850000</td>\n",
       "      <td>0.680000</td>\n",
       "      <td>0.755556</td>\n",
       "    </tr>\n",
       "    <tr>\n",
       "      <th>Training data with best threshold</th>\n",
       "      <td>0.995816</td>\n",
       "      <td>1.000000</td>\n",
       "      <td>0.985915</td>\n",
       "      <td>0.992908</td>\n",
       "    </tr>\n",
       "    <tr>\n",
       "      <th>Test Data with best threshold</th>\n",
       "      <td>0.733333</td>\n",
       "      <td>0.909091</td>\n",
       "      <td>0.400000</td>\n",
       "      <td>0.555556</td>\n",
       "    </tr>\n",
       "  </tbody>\n",
       "</table>\n",
       "</div>"
      ],
      "text/plain": [
       "                                   Accuracy  Precision    Recall  F1 Score\n",
       "Training Data Set                  1.000000   1.000000  1.000000  1.000000\n",
       "Test Data Set                      0.816667   0.850000  0.680000  0.755556\n",
       "Training data with best threshold  0.995816   1.000000  0.985915  0.992908\n",
       "Test Data with best threshold      0.733333   0.909091  0.400000  0.555556"
      ]
     },
     "execution_count": 22,
     "metadata": {},
     "output_type": "execute_result"
    }
   ],
   "source": [
    "best_threshold_df = pd.concat([performance_df, model_perf_thres_df])\n",
    "best_threshold_df"
   ]
  },
  {
   "cell_type": "markdown",
   "id": "4926def1-54ee-4861-806a-a1d5f6a4528f",
   "metadata": {},
   "source": [
    "#### ROC Curve"
   ]
  },
  {
   "cell_type": "code",
   "execution_count": 23,
   "id": "9d123af9-977d-4f88-a1c9-7ae66136a627",
   "metadata": {},
   "outputs": [
    {
     "data": {
      "application/vnd.vegalite.v4+json": {
       "$schema": "https://vega.github.io/schema/vega-lite/v4.8.1.json",
       "config": {
        "view": {
         "continuousHeight": 300,
         "continuousWidth": 400
        }
       },
       "datasets": {
        "data-03bd4689fc05ad8bd1a4da79de7a5bc0": [
         {
          "fpr": 0,
          "thresholds": 1.8375,
          "tpr": 0
         },
         {
          "fpr": 0,
          "thresholds": 0.8375,
          "tpr": 0.04
         },
         {
          "fpr": 0,
          "thresholds": 0.7,
          "tpr": 0.32
         },
         {
          "fpr": 0.02857142857142857,
          "thresholds": 0.6925,
          "tpr": 0.32
         },
         {
          "fpr": 0.02857142857142857,
          "thresholds": 0.58,
          "tpr": 0.6
         },
         {
          "fpr": 0.08571428571428572,
          "thresholds": 0.535,
          "tpr": 0.6
         },
         {
          "fpr": 0.08571428571428572,
          "thresholds": 0.5075,
          "tpr": 0.68
         },
         {
          "fpr": 0.11428571428571428,
          "thresholds": 0.46,
          "tpr": 0.72
         },
         {
          "fpr": 0.14285714285714285,
          "thresholds": 0.435,
          "tpr": 0.72
         },
         {
          "fpr": 0.14285714285714285,
          "thresholds": 0.375,
          "tpr": 0.84
         },
         {
          "fpr": 0.17142857142857143,
          "thresholds": 0.3675,
          "tpr": 0.88
         },
         {
          "fpr": 0.2,
          "thresholds": 0.3625,
          "tpr": 0.88
         },
         {
          "fpr": 0.2,
          "thresholds": 0.325,
          "tpr": 0.92
         },
         {
          "fpr": 0.3142857142857143,
          "thresholds": 0.1525,
          "tpr": 0.92
         },
         {
          "fpr": 0.3142857142857143,
          "thresholds": 0.115,
          "tpr": 1
         },
         {
          "fpr": 0.34285714285714286,
          "thresholds": 0.1125,
          "tpr": 1
         },
         {
          "fpr": 0.4,
          "thresholds": 0.1075,
          "tpr": 1
         },
         {
          "fpr": 0.6571428571428571,
          "thresholds": 0.0475,
          "tpr": 1
         },
         {
          "fpr": 0.7142857142857143,
          "thresholds": 0.045,
          "tpr": 1
         },
         {
          "fpr": 0.7428571428571429,
          "thresholds": 0.0425,
          "tpr": 1
         },
         {
          "fpr": 0.8,
          "thresholds": 0.0325,
          "tpr": 1
         },
         {
          "fpr": 0.8285714285714286,
          "thresholds": 0.0275,
          "tpr": 1
         },
         {
          "fpr": 0.9142857142857143,
          "thresholds": 0.025,
          "tpr": 1
         },
         {
          "fpr": 1,
          "thresholds": 0.0175,
          "tpr": 1
         }
        ],
        "data-9f7c1927be9595904734c34cd325b796": [
         {
          "fpr": 0.02857142857142857,
          "thresholds": 0.6925,
          "tpr": 0.32
         }
        ]
       },
       "layer": [
        {
         "data": {
          "name": "data-03bd4689fc05ad8bd1a4da79de7a5bc0"
         },
         "encoding": {
          "x": {
           "field": "fpr",
           "title": "False Positive Rate",
           "type": "quantitative"
          },
          "y": {
           "field": "tpr",
           "title": "True Positive Rate",
           "type": "quantitative"
          }
         },
         "mark": "line",
         "title": "ROC Curve"
        },
        {
         "data": {
          "name": "data-9f7c1927be9595904734c34cd325b796"
         },
         "encoding": {
          "x": {
           "field": "fpr",
           "type": "quantitative"
          },
          "y": {
           "field": "tpr",
           "type": "quantitative"
          }
         },
         "mark": {
          "color": "green",
          "opacity": 1,
          "size": 100,
          "type": "point"
         }
        },
        {
         "data": {
          "name": "data-9f7c1927be9595904734c34cd325b796"
         },
         "encoding": {
          "text": {
           "field": "thresholds",
           "format": ".1f",
           "type": "quantitative"
          },
          "x": {
           "field": "fpr",
           "type": "quantitative"
          },
          "y": {
           "field": "tpr",
           "type": "quantitative"
          }
         },
         "mark": {
          "align": "left",
          "baseline": "middle",
          "dx": 15,
          "type": "text"
         }
        }
       ]
      },
      "image/png": "[encoded data removed]",
      "text/plain": [
       "<VegaLite 4 object>\n",
       "\n",
       "If you see this message, it means the renderer has not been properly enabled\n",
       "for the frontend that you are using. For more information, see\n",
       "https://altair-viz.github.io/user_guide/troubleshooting.html\n"
      ]
     },
     "execution_count": 23,
     "metadata": {},
     "output_type": "execute_result"
    }
   ],
   "source": [
    "false_positive_rate, true_positive_rate, thresholds = roc_curve(y_test, rand_search_rf.predict_proba(X_test)[:, 1])\n",
    "\n",
    "roc_df = pd.DataFrame()\n",
    "roc_df['fpr'] = false_positive_rate\n",
    "roc_df['tpr'] = true_positive_rate\n",
    "roc_df['thresholds'] = thresholds\n",
    "\n",
    "pt_roc_index = (roc_df['thresholds'] - best_thres).abs().argmin()\n",
    "\n",
    "roc_curves = alt.Chart(roc_df, title = \"ROC Curve\").mark_line().encode(\n",
    "        alt.X('fpr', title=\"False Positive Rate\"),\n",
    "        alt.Y('tpr', title=\"True Positive Rate\"))\n",
    "\n",
    "roc_max_f1_point = alt.Chart(pd.DataFrame(roc_df.iloc[pt_roc_index]).T, \n",
    "                         ).mark_point(\n",
    "    color=\"green\", size=100, opacity=1).encode(\n",
    "    x=\"fpr\",\n",
    "    y=\"tpr\"\n",
    ")\n",
    "\n",
    "roc_text = roc_max_f1_point.mark_text(\n",
    "    align='left',\n",
    "    baseline='middle',\n",
    "    dx=15).encode(text= alt.Text(\"thresholds:Q\", format = \".1f\"))\n",
    "\n",
    "roc_curve_plot = roc_curves + roc_max_f1_point + roc_text\n",
    "roc_curve_plot"
   ]
  },
  {
   "cell_type": "markdown",
   "id": "59532954-88ef-4dc8-94d6-2c2a6b222922",
   "metadata": {},
   "source": [
    "#### ROC_AUC and Average Precision score"
   ]
  },
  {
   "cell_type": "code",
   "execution_count": 24,
   "id": "c989dfa1-87ef-404e-9263-5f6e0da26070",
   "metadata": {},
   "outputs": [
    {
     "data": {
      "text/html": [
       "<div>\n",
       "<style scoped>\n",
       "    .dataframe tbody tr th:only-of-type {\n",
       "        vertical-align: middle;\n",
       "    }\n",
       "\n",
       "    .dataframe tbody tr th {\n",
       "        vertical-align: top;\n",
       "    }\n",
       "\n",
       "    .dataframe thead th {\n",
       "        text-align: right;\n",
       "    }\n",
       "</style>\n",
       "<table border=\"1\" class=\"dataframe\">\n",
       "  <thead>\n",
       "    <tr style=\"text-align: right;\">\n",
       "      <th></th>\n",
       "      <th>Test Data Metrics</th>\n",
       "    </tr>\n",
       "  </thead>\n",
       "  <tbody>\n",
       "    <tr>\n",
       "      <th>Accuracy</th>\n",
       "      <td>0.733333</td>\n",
       "    </tr>\n",
       "    <tr>\n",
       "      <th>Precision</th>\n",
       "      <td>0.909091</td>\n",
       "    </tr>\n",
       "    <tr>\n",
       "      <th>Recall</th>\n",
       "      <td>0.400000</td>\n",
       "    </tr>\n",
       "    <tr>\n",
       "      <th>F1 Score</th>\n",
       "      <td>0.555556</td>\n",
       "    </tr>\n",
       "    <tr>\n",
       "      <th>Average Precision Score</th>\n",
       "      <td>0.891617</td>\n",
       "    </tr>\n",
       "    <tr>\n",
       "      <th>AUC Score</th>\n",
       "      <td>0.924571</td>\n",
       "    </tr>\n",
       "  </tbody>\n",
       "</table>\n",
       "</div>"
      ],
      "text/plain": [
       "                         Test Data Metrics\n",
       "Accuracy                          0.733333\n",
       "Precision                         0.909091\n",
       "Recall                            0.400000\n",
       "F1 Score                          0.555556\n",
       "Average Precision Score           0.891617\n",
       "AUC Score                         0.924571"
      ]
     },
     "execution_count": 24,
     "metadata": {},
     "output_type": "execute_result"
    }
   ],
   "source": [
    "ap_forest = average_precision_score(y_test, rand_search_rf.predict_proba(X_test)[:, 1])\n",
    "roc_forest = roc_auc_score(y_test, rand_search_rf.predict_proba(X_test)[:, 1])\n",
    "\n",
    "test_model_perf_df = pd.DataFrame({\n",
    "    \"Accuracy\" : model_perf_thres_df.loc[\"Test Data with best threshold\"][\"Accuracy\"],\n",
    "    \"Precision\" : model_perf_thres_df.loc[\"Test Data with best threshold\"][\"Precision\"],\n",
    "    \"Recall\" : model_perf_thres_df.loc[\"Test Data with best threshold\"][\"Recall\"],\n",
    "    \"F1 Score\" : model_perf_thres_df.loc[\"Test Data with best threshold\"][\"F1 Score\"],\n",
    "    \"Average Precision Score\" : ap_forest,\n",
    "    \"AUC Score\" : roc_forest},\n",
    "    index = [\"Test Data Metrics\"]).T\n",
    "test_model_perf_df"
   ]
  },
  {
   "cell_type": "markdown",
   "id": "9e31c632-1318-4eaf-bd69-8f34c4437dad",
   "metadata": {},
   "source": [
    "#### Feature importance"
   ]
  },
  {
   "cell_type": "code",
   "execution_count": 25,
   "id": "432f6615-c890-438a-acd3-4194f1c80d99",
   "metadata": {},
   "outputs": [
    {
     "data": {
      "text/plain": [
       "array([0.09852631, 0.0698308 , 0.11325893, 0.0851317 , 0.19679636,\n",
       "       0.07503395, 0.25976808, 0.00932298, 0.00930193, 0.01641259,\n",
       "       0.01331551, 0.01126661, 0.0174134 , 0.01405828, 0.01056256])"
      ]
     },
     "execution_count": 25,
     "metadata": {},
     "output_type": "execute_result"
    }
   ],
   "source": [
    "importances = pipe_rf[\"randomforestclassifier\"].feature_importances_\n",
    "importances"
   ]
  },
  {
   "cell_type": "code",
   "execution_count": 26,
   "id": "d20c5d8f-2ce9-4639-8c39-c4b727ccf8ea",
   "metadata": {},
   "outputs": [
    {
     "data": {
      "text/plain": [
       "<AxesSubplot:>"
      ]
     },
     "execution_count": 26,
     "metadata": {},
     "output_type": "execute_result"
    },
    {
     "data": {
      "image/png": "[encoded data removed]",
      "text/plain": [
       "<Figure size 432x288 with 1 Axes>"
      ]
     },
     "metadata": {
      "needs_background": "light"
     },
     "output_type": "display_data"
    }
   ],
   "source": [
    "%matplotlib inline\n",
    "feats = {} # a dict to hold feature_name: feature_importance\n",
    "for feature, importance in zip(X_train.columns, pipe_rf[\"randomforestclassifier\"].feature_importances_):\n",
    "    feats[feature] = importance #add the name/value pair \n",
    "\n",
    "importances = pd.DataFrame.from_dict(feats, orient='index').rename(columns={0: 'importance'})\n",
    "importances.sort_values(by='importance').plot(kind='bar', rot=90)"
   ]
  }
 ],
 "metadata": {
  "kernelspec": {
   "display_name": "Python [conda env:.conda-Heart-failure]",
   "language": "python",
   "name": "conda-env-.conda-Heart-failure-py"
  },
  "language_info": {
   "codemirror_mode": {
    "name": "ipython",
    "version": 3
   },
   "file_extension": ".py",
   "mimetype": "text/x-python",
   "name": "python",
   "nbconvert_exporter": "python",
   "pygments_lexer": "ipython3",
   "version": "3.10.0"
  }
 },
 "nbformat": 4,
 "nbformat_minor": 5
}
