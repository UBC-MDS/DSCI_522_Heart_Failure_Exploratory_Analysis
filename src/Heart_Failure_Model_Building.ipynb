{
 "cells": [
  {
   "cell_type": "code",
   "execution_count": 1,
   "id": "99269382-965b-4de4-83da-b41313a4dd08",
   "metadata": {},
   "outputs": [],
   "source": [
    "import altair as alt\n",
    "import numpy as np\n",
    "import pandas as pd\n",
    "import matplotlib.pyplot as plt \n",
    "from scipy.stats import loguniform\n",
    "import sklearn\n",
    "from sklearn.compose import make_column_transformer\n",
    "from sklearn.dummy import DummyClassifier\n",
    "from sklearn.ensemble import RandomForestClassifier\n",
    "from sklearn.neighbors import KNeighborsClassifier\n",
    "from sklearn.metrics import (\n",
    "    accuracy_score, recall_score, precision_score,\n",
    "    f1_score, precision_recall_curve, average_precision_score,\n",
    "    classification_report, confusion_matrix,\n",
    "    PrecisionRecallDisplay, roc_curve, roc_auc_score\n",
    ")\n",
    "from sklearn.model_selection import (\n",
    "    cross_validate, RandomizedSearchCV\n",
    ")\n",
    "from sklearn.pipeline import make_pipeline\n",
    "from sklearn.preprocessing import (\n",
    "    StandardScaler, OneHotEncoder\n",
    ")\n",
    "from sklearn.model_selection import cross_val_predict"
   ]
  },
  {
   "cell_type": "code",
   "execution_count": 2,
   "id": "c6a5e5e0-31bb-4710-85ef-a41512848473",
   "metadata": {},
   "outputs": [
    {
     "data": {
      "text/plain": [
       "RendererRegistry.enable('mimetype')"
      ]
     },
     "execution_count": 2,
     "metadata": {},
     "output_type": "execute_result"
    }
   ],
   "source": [
    "alt.renderers.enable('mimetype')"
   ]
  },
  {
   "cell_type": "code",
   "execution_count": 3,
   "id": "70ce06ab-9186-4996-a8d4-2815f973da0c",
   "metadata": {},
   "outputs": [],
   "source": [
    "#Reading the data\n",
    "train_df = pd.read_csv(\"../data/processed/Heart_Failure_Data_train.csv\")\n",
    "test_df = pd.read_csv(\"../data/processed/Heart_Failure_Data_test.csv\")"
   ]
  },
  {
   "cell_type": "code",
   "execution_count": 4,
   "id": "9e669527-78d1-49e1-8133-fca2a6896d74",
   "metadata": {},
   "outputs": [],
   "source": [
    "# Data splitting\n",
    "X_train = train_df.drop(\"DEATH_EVENT\", axis=1)\n",
    "y_train = train_df['DEATH_EVENT']\n",
    "X_test = test_df.drop(\"DEATH_EVENT\", axis=1)\n",
    "y_test = test_df['DEATH_EVENT']"
   ]
  },
  {
   "cell_type": "code",
   "execution_count": 5,
   "id": "0562e4cb-e84f-44c2-bec0-5964dcfd1903",
   "metadata": {},
   "outputs": [],
   "source": [
    "# Seperate the features for preprocessing\n",
    "numeric_features = ['age','creatinine_phosphokinase','ejection_fraction','platelets','serum_creatinine', 'serum_sodium','time']\n",
    "binary_feats = ['sex', 'diabetes', 'high_blood_pressure','anaemia']"
   ]
  },
  {
   "cell_type": "code",
   "execution_count": 6,
   "id": "62b62ac0-7d1a-49c5-ae7b-d8786e3a780d",
   "metadata": {},
   "outputs": [],
   "source": [
    "#define a column transformer\n",
    "col_trans = make_column_transformer(\n",
    "    (StandardScaler(), numeric_features),\n",
    "    (OneHotEncoder(), binary_feats),\n",
    "\n",
    ")"
   ]
  },
  {
   "cell_type": "code",
   "execution_count": 7,
   "id": "9245c3e4-e70c-44a0-88ce-6cef0efad9ac",
   "metadata": {},
   "outputs": [],
   "source": [
    "# Define the metrics\n",
    "scoring = ['accuracy', 'precision', 'recall', 'f1']\n"
   ]
  },
  {
   "cell_type": "markdown",
   "id": "aca9f479-37ba-4ef5-822e-b7ee13621a02",
   "metadata": {},
   "source": [
    "Here we are using two classifiers for the initial performance calculation : \n",
    "1. KNeighborsClassifier\n",
    "2. RandomForestClassifier"
   ]
  },
  {
   "cell_type": "code",
   "execution_count": 8,
   "id": "2dbea837-d5a6-4d71-9d09-0ed5d8949c3c",
   "metadata": {},
   "outputs": [],
   "source": [
    "#Performance calculation\n",
    "results = {}\n",
    "pipe_knn = make_pipeline(\n",
    "    col_trans,\n",
    "    KNeighborsClassifier(n_neighbors=3)\n",
    ")\n",
    "results['KNeighborsClassifier'] = pd.DataFrame(cross_validate(pipe_knn, X_train,\n",
    "                                        y_train, scoring=scoring)).mean()\n",
    "\n",
    "pipe_rf = make_pipeline(\n",
    "    col_trans,\n",
    "    RandomForestClassifier(random_state=522)\n",
    ")\n",
    "results['RandomForestClassifier'] = pd.DataFrame(cross_validate(pipe_rf, X_train,\n",
    "                                                y_train, scoring=scoring)).mean()"
   ]
  },
  {
   "cell_type": "code",
   "execution_count": 9,
   "id": "92064a59-7a4c-4da8-92ad-934274a167e3",
   "metadata": {},
   "outputs": [
    {
     "data": {
      "text/html": [
       "<div>\n",
       "<style scoped>\n",
       "    .dataframe tbody tr th:only-of-type {\n",
       "        vertical-align: middle;\n",
       "    }\n",
       "\n",
       "    .dataframe tbody tr th {\n",
       "        vertical-align: top;\n",
       "    }\n",
       "\n",
       "    .dataframe thead th {\n",
       "        text-align: right;\n",
       "    }\n",
       "</style>\n",
       "<table border=\"1\" class=\"dataframe\">\n",
       "  <thead>\n",
       "    <tr style=\"text-align: right;\">\n",
       "      <th></th>\n",
       "      <th>KNeighborsClassifier</th>\n",
       "      <th>RandomForestClassifier</th>\n",
       "    </tr>\n",
       "  </thead>\n",
       "  <tbody>\n",
       "    <tr>\n",
       "      <th>fit_time</th>\n",
       "      <td>0.020732</td>\n",
       "      <td>0.327548</td>\n",
       "    </tr>\n",
       "    <tr>\n",
       "      <th>score_time</th>\n",
       "      <td>0.032610</td>\n",
       "      <td>0.047280</td>\n",
       "    </tr>\n",
       "    <tr>\n",
       "      <th>test_accuracy</th>\n",
       "      <td>0.744858</td>\n",
       "      <td>0.844858</td>\n",
       "    </tr>\n",
       "    <tr>\n",
       "      <th>test_precision</th>\n",
       "      <td>0.646825</td>\n",
       "      <td>0.799495</td>\n",
       "    </tr>\n",
       "    <tr>\n",
       "      <th>test_recall</th>\n",
       "      <td>0.295238</td>\n",
       "      <td>0.660000</td>\n",
       "    </tr>\n",
       "    <tr>\n",
       "      <th>test_f1</th>\n",
       "      <td>0.401295</td>\n",
       "      <td>0.715091</td>\n",
       "    </tr>\n",
       "  </tbody>\n",
       "</table>\n",
       "</div>"
      ],
      "text/plain": [
       "                KNeighborsClassifier  RandomForestClassifier\n",
       "fit_time                    0.020732                0.327548\n",
       "score_time                  0.032610                0.047280\n",
       "test_accuracy               0.744858                0.844858\n",
       "test_precision              0.646825                0.799495\n",
       "test_recall                 0.295238                0.660000\n",
       "test_f1                     0.401295                0.715091"
      ]
     },
     "execution_count": 9,
     "metadata": {},
     "output_type": "execute_result"
    }
   ],
   "source": [
    "pd.DataFrame(results)"
   ]
  },
  {
   "cell_type": "markdown",
   "id": "033640ac-0718-4de6-8dae-7d4231c106c0",
   "metadata": {},
   "source": [
    "We can observe that we arre getting better scores with RandomForestClassifier. To analyze further let's perform hyperparameter optimization on RandomForestClassifier."
   ]
  },
  {
   "cell_type": "code",
   "execution_count": null,
   "id": "9f8756eb-8efb-4424-85bc-f8adb18f1207",
   "metadata": {},
   "outputs": [],
   "source": [
    "param_dist = {\n",
    "    \"randomforestclassifier__max_depth\": np.arange(10, 20, 2),\n",
    "    \"randomforestclassifier__class_weight\": [None, \"balanced\"],\n",
    "    \"randomforestclassifier__n_estimators\": [10, 20, 40, 100, 200, 400, 800],\n",
    "}\n",
    "rand_search_rf = RandomizedSearchCV(pipe_rf, param_dist, n_iter=20, \n",
    "                                    random_state=952, scoring=scoring, refit=\"precision\")\n",
    "\n",
    "rand_search_rf.fit(X_train, y_train)"
   ]
  },
  {
   "cell_type": "code",
   "execution_count": null,
   "id": "12e3a4b4-be82-4d1b-8abc-0fa503aedf0c",
   "metadata": {},
   "outputs": [],
   "source": []
  },
  {
   "cell_type": "code",
   "execution_count": null,
   "id": "657ea1fa-9b15-4bf4-a7c4-014b1e041755",
   "metadata": {},
   "outputs": [],
   "source": [
    "# Test the fitted model \n",
    "y_train_predict = rand_search_rf.predict(X_train)\n",
    "y_train_predict"
   ]
  },
  {
   "cell_type": "code",
   "execution_count": null,
   "id": "9d7bd6c0-d081-4aa5-a569-766b551656be",
   "metadata": {},
   "outputs": [],
   "source": [
    "# Predict on test data\n",
    "y_predict = rand_search_rf.predict(X_test)\n",
    "y_predict"
   ]
  },
  {
   "cell_type": "code",
   "execution_count": null,
   "id": "7c24c7eb-27e5-4170-a81f-583ddf9591b3",
   "metadata": {},
   "outputs": [],
   "source": [
    "# Table of Metrics for positive class for train and test set\n",
    "performance_df = pd.DataFrame(\n",
    "    {\n",
    "        \"Accuracy\": [accuracy_score(y_train, y_train_predict), accuracy_score(y_test, y_predict)],\n",
    "        \"Precision\": [precision_score(y_train, y_train_predict), precision_score(y_test, y_predict)],\n",
    "        \"Recall\": [recall_score(y_train, y_train_predict), recall_score(y_test, y_predict)],\n",
    "        \"F1 Score\": [f1_score(y_train, y_train_predict), f1_score(y_test, y_predict)]\n",
    "    },\n",
    "    index=[\"Training Data Set\", \"Test Data Set\"])\n",
    "performance_df"
   ]
  },
  {
   "cell_type": "code",
   "execution_count": null,
   "id": "f149c6da-4edd-4057-9af1-344f52ba4f43",
   "metadata": {},
   "outputs": [],
   "source": [
    "from sklearn.metrics import ConfusionMatrixDisplay  # Recommended method in sklearn 1.0\n",
    "\n",
    "pipe_rf.fit(X_train, y_train)\n",
    "cm = ConfusionMatrixDisplay.from_estimator(\n",
    "    pipe_rf, X_train, y_train, values_format=\"d\", display_labels=[\"No Death Event\", \"Death Event\"]\n",
    ")\n",
    "\n"
   ]
  },
  {
   "cell_type": "markdown",
   "id": "c05563b8-3440-4b9f-9a7d-878e433eba9e",
   "metadata": {},
   "source": [
    "Visualizing the confusion  matrix of test data :"
   ]
  },
  {
   "cell_type": "code",
   "execution_count": null,
   "id": "66742fd3-c892-4923-baf8-b0821f7fdb5f",
   "metadata": {},
   "outputs": [],
   "source": [
    "# Confusion Matrix for the test set\n",
    "\n",
    "pipe_rf.fit(X_test, y_test)\n",
    "cm = ConfusionMatrixDisplay.from_estimator(\n",
    "    pipe_rf, X_train, y_train, values_format=\"d\", display_labels=[\"No Death Event\", \"Death Event\"]\n",
    ")"
   ]
  },
  {
   "cell_type": "markdown",
   "id": "4f07a2b6-2f73-455b-a585-79d6be641583",
   "metadata": {},
   "source": [
    "Test the model :"
   ]
  },
  {
   "cell_type": "code",
   "execution_count": null,
   "id": "0b8c24e5-c438-426d-a797-93d3f40464ba",
   "metadata": {},
   "outputs": [],
   "source": [
    "# Table of Metrics for train set\n",
    "\n",
    "PR_curve_df = pd.DataFrame(precision_recall_curve(y_train, rand_search_rf.predict_proba(X_train)[:,1],), index=[\"precision\",\"recall\",\"threshold\"]).T\n",
    "PR_curve_df['F1 Score'] =  2 * (PR_curve_df['precision'] * PR_curve_df['recall'])/(PR_curve_df['precision'] + PR_curve_df['recall'])\n",
    "PR_curve_df"
   ]
  },
  {
   "cell_type": "code",
   "execution_count": null,
   "id": "2d73265a-440a-40ac-b96e-3a4abed5be14",
   "metadata": {},
   "outputs": [],
   "source": [
    "ap_forest = average_precision_score(y_test, pipe_rf.predict_proba(X_test)[:, 1])\n",
    "print(\"Average precision for the  Random Forest Classifier:\")\n",
    "print(ap_forest)"
   ]
  },
  {
   "cell_type": "code",
   "execution_count": null,
   "id": "77a7be1d-8444-4bb6-b060-d5005af30fb2",
   "metadata": {},
   "outputs": [],
   "source": [
    "# Threshold to get best F1 score\n",
    "maximum_f1_df = PR_curve_df.iloc[PR_curve_df[\"F1 Score\"].idxmax()].to_frame().T\n",
    "best_thres = maximum_f1_df['threshold'].iloc[0]\n",
    "maximum_f1_df"
   ]
  },
  {
   "cell_type": "code",
   "execution_count": null,
   "id": "2d1e5f1c-d987-46b4-8d80-afd998b7f160",
   "metadata": {},
   "outputs": [],
   "source": [
    "# PR curve with best threshold\n",
    "\n",
    "PR_curve = alt.Chart(PR_curve_df).mark_circle().encode(\n",
    "    x=\"recall\",\n",
    "    y=\"precision\",\n",
    "    color=\"F1 Score\"\n",
    ")\n",
    "max_f1_point = alt.Chart(maximum_f1_df, \n",
    "                         title = 'PR curve with best threshold',).mark_circle(\n",
    "    color=\"red\", size=100, opacity=1).encode(\n",
    "    x=\"recall\",\n",
    "    y=\"precision\"\n",
    ")\n",
    "\n",
    "text = max_f1_point.mark_text(\n",
    "    align='left',\n",
    "    baseline='middle',\n",
    "    dx=15).encode(text= alt.Text(\"threshold\", format = \".2f\"))\n",
    "\n",
    "PR_curve_plot = PR_curve + max_f1_point + text\n",
    "PR_curve_plot"
   ]
  },
  {
   "cell_type": "code",
   "execution_count": null,
   "id": "d5f659b3-9e27-4c5d-a157-2c3daa8aeb70",
   "metadata": {},
   "outputs": [],
   "source": [
    "# Evaluate Model with test data set with best_thres\n",
    "y_pred_train_thres = rand_search_rf.predict_proba(X_train)[:, 1] > best_thres\n",
    "y_pred_thres = rand_search_rf.predict_proba(X_test)[:, 1] > best_thres"
   ]
  },
  {
   "cell_type": "code",
   "execution_count": null,
   "id": "1cb82856-d73a-4256-b109-e6a1205cd5b8",
   "metadata": {},
   "outputs": [],
   "source": [
    "# Table of Metrics for positive class with best_thres\n",
    "model_perf_thres_df = pd.DataFrame(\n",
    "    {\n",
    "        \"Accuracy\": [accuracy_score(y_train, y_pred_train_thres), accuracy_score(y_test, y_pred_thres)],\n",
    "        \"Precision\": [precision_score(y_train, y_pred_train_thres), precision_score(y_test, y_pred_thres)],\n",
    "        \"Recall\": [recall_score(y_train, y_pred_train_thres), recall_score(y_test, y_pred_thres)],\n",
    "        \"F1 Score\": [f1_score(y_train, y_pred_train_thres), f1_score(y_test, y_pred_thres)]\n",
    "    },\n",
    "    index=[\"Training data with best threshold\", \"Test Data with best threshold\"])"
   ]
  },
  {
   "cell_type": "code",
   "execution_count": null,
   "id": "7470dc05-a6b5-4fa9-8d84-b34450e8a7fd",
   "metadata": {},
   "outputs": [],
   "source": [
    "best_threshold_df = pd.concat([performance_df, model_perf_thres_df])\n",
    "best_threshold_df"
   ]
  },
  {
   "cell_type": "markdown",
   "id": "4926def1-54ee-4861-806a-a1d5f6a4528f",
   "metadata": {},
   "source": [
    "#### ROC Curve"
   ]
  },
  {
   "cell_type": "code",
   "execution_count": null,
   "id": "9d123af9-977d-4f88-a1c9-7ae66136a627",
   "metadata": {},
   "outputs": [],
   "source": [
    "false_positive_rate, true_positive_rate, thresholds = roc_curve(y_test, rand_search_rf.predict_proba(X_test)[:, 1])\n",
    "\n",
    "roc_df = pd.DataFrame()\n",
    "roc_df['fpr'] = false_positive_rate\n",
    "roc_df['tpr'] = true_positive_rate\n",
    "roc_df['thresholds'] = thresholds\n",
    "\n",
    "pt_roc_index = (roc_df['thresholds'] - best_thres).abs().argmin()\n",
    "\n",
    "roc_curves = alt.Chart(roc_df, title = \"ROC Curve\").mark_line().encode(\n",
    "        alt.X('fpr', title=\"False Positive Rate\"),\n",
    "        alt.Y('tpr', title=\"True Positive Rate\"))\n",
    "\n",
    "roc_max_f1_point = alt.Chart(pd.DataFrame(roc_df.iloc[pt_roc_index]).T, \n",
    "                         ).mark_point(\n",
    "    color=\"green\", size=100, opacity=1).encode(\n",
    "    x=\"fpr\",\n",
    "    y=\"tpr\"\n",
    ")\n",
    "\n",
    "roc_text = roc_max_f1_point.mark_text(\n",
    "    align='left',\n",
    "    baseline='middle',\n",
    "    dx=15).encode(text= alt.Text(\"thresholds:Q\", format = \".1f\"))\n",
    "\n",
    "roc_curve_plot = roc_curves + roc_max_f1_point + roc_text\n",
    "roc_curve_plot"
   ]
  },
  {
   "cell_type": "markdown",
   "id": "59532954-88ef-4dc8-94d6-2c2a6b222922",
   "metadata": {},
   "source": [
    "#### ROC_AUC and Average Precision score"
   ]
  },
  {
   "cell_type": "code",
   "execution_count": null,
   "id": "c989dfa1-87ef-404e-9263-5f6e0da26070",
   "metadata": {},
   "outputs": [],
   "source": [
    "ap_forest = average_precision_score(y_test, rand_search_rf.predict_proba(X_test)[:, 1])\n",
    "roc_forest = roc_auc_score(y_test, rand_search_rf.predict_proba(X_test)[:, 1])\n",
    "\n",
    "test_model_perf_df = pd.DataFrame({\n",
    "    \"Accuracy\" : model_perf_thres_df.loc[\"Test Data with best threshold\"][\"Accuracy\"],\n",
    "    \"Precision\" : model_perf_thres_df.loc[\"Test Data with best threshold\"][\"Precision\"],\n",
    "    \"Recall\" : model_perf_thres_df.loc[\"Test Data with best threshold\"][\"Recall\"],\n",
    "    \"F1 Score\" : model_perf_thres_df.loc[\"Test Data with best threshold\"][\"F1 Score\"],\n",
    "    \"Average Precision Score\" : ap_forest,\n",
    "    \"AUC Score\" : roc_forest},\n",
    "    index = [\"Test Data Metrics\"]).T\n",
    "test_model_perf_df"
   ]
  },
  {
   "cell_type": "markdown",
   "id": "9e31c632-1318-4eaf-bd69-8f34c4437dad",
   "metadata": {},
   "source": [
    "#### Feature importance"
   ]
  },
  {
   "cell_type": "code",
   "execution_count": null,
   "id": "432f6615-c890-438a-acd3-4194f1c80d99",
   "metadata": {},
   "outputs": [],
   "source": [
    "importances = pipe_rf[\"randomforestclassifier\"].feature_importances_\n",
    "importances"
   ]
  },
  {
   "cell_type": "code",
   "execution_count": null,
   "id": "d20c5d8f-2ce9-4639-8c39-c4b727ccf8ea",
   "metadata": {},
   "outputs": [],
   "source": [
    "%matplotlib inline\n",
    "feats = {} # a dict to hold feature_name: feature_importance\n",
    "for feature, importance in zip(X_train.columns, pipe_rf[\"randomforestclassifier\"].feature_importances_):\n",
    "    feats[feature] = importance #add the name/value pair \n",
    "\n",
    "importances = pd.DataFrame.from_dict(feats, orient='index').rename(columns={0: 'importance'})\n",
    "importances.sort_values(by='importance').plot(kind='bar', rot=90)"
   ]
  }
 ],
 "metadata": {
  "kernelspec": {
   "display_name": "Python [conda env:.conda-Heart-failure]",
   "language": "python",
   "name": "conda-env-.conda-Heart-failure-py"
  },
  "language_info": {
   "codemirror_mode": {
    "name": "ipython",
    "version": 3
   },
   "file_extension": ".py",
   "mimetype": "text/x-python",
   "name": "python",
   "nbconvert_exporter": "python",
   "pygments_lexer": "ipython3",
   "version": "3.10.0"
  }
 },
 "nbformat": 4,
 "nbformat_minor": 5
}
