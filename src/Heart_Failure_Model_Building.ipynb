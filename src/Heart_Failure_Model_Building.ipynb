{
 "cells": [
  {
   "cell_type": "code",
   "execution_count": 1,
   "id": "99269382-965b-4de4-83da-b41313a4dd08",
   "metadata": {},
   "outputs": [],
   "source": [
    "import altair as alt\n",
    "import numpy as np\n",
    "import pandas as pd\n",
    "import matplotlib.pyplot as plt \n",
    "from scipy.stats import loguniform\n",
    "import sklearn\n",
    "from sklearn.compose import make_column_transformer\n",
    "from sklearn.dummy import DummyClassifier\n",
    "from sklearn.ensemble import RandomForestClassifier\n",
    "from sklearn.neighbors import KNeighborsClassifier\n",
    "from sklearn.metrics import (\n",
    "    accuracy_score, recall_score, precision_score,\n",
    "    f1_score, precision_recall_curve, average_precision_score,\n",
    "    classification_report, confusion_matrix,\n",
    "    PrecisionRecallDisplay, roc_curve, roc_auc_score\n",
    ")\n",
    "from sklearn.model_selection import (\n",
    "    cross_validate, RandomizedSearchCV\n",
    ")\n",
    "from sklearn.pipeline import make_pipeline\n",
    "from sklearn.preprocessing import (\n",
    "    StandardScaler, OneHotEncoder\n",
    ")\n",
    "from sklearn.model_selection import cross_val_predict\n",
    "from sklearn.model_selection import train_test_split"
   ]
  },
  {
   "cell_type": "code",
   "execution_count": 2,
   "id": "c6a5e5e0-31bb-4710-85ef-a41512848473",
   "metadata": {},
   "outputs": [
    {
     "data": {
      "text/plain": [
       "RendererRegistry.enable('mimetype')"
      ]
     },
     "execution_count": 2,
     "metadata": {},
     "output_type": "execute_result"
    }
   ],
   "source": [
    "alt.renderers.enable('mimetype')"
   ]
  },
  {
   "cell_type": "markdown",
   "id": "c8ce444c-94f5-4884-ba9c-425570cd0966",
   "metadata": {},
   "source": [
    "If data is not downloaded yet it can be downloaded using the following command."
   ]
  },
  {
   "cell_type": "code",
   "execution_count": 37,
   "id": "4ac5dffc-0de0-4e6a-bcfa-b9476b1d3ff1",
   "metadata": {},
   "outputs": [],
   "source": [
    "!python ../src/download_data.py --url=\"https://archive.ics.uci.edu/ml/machine-learning-databases/00519/heart_failure_clinical_records_dataset.csv\" --out_file=\"../data/raw/heart_failure_clinical_records_dataset.csv\""
   ]
  },
  {
   "cell_type": "code",
   "execution_count": 32,
   "id": "1fa22de3-f81e-47a9-acb7-81c7083d0c7d",
   "metadata": {},
   "outputs": [
    {
     "data": {
      "text/html": [
       "<div>\n",
       "<style scoped>\n",
       "    .dataframe tbody tr th:only-of-type {\n",
       "        vertical-align: middle;\n",
       "    }\n",
       "\n",
       "    .dataframe tbody tr th {\n",
       "        vertical-align: top;\n",
       "    }\n",
       "\n",
       "    .dataframe thead th {\n",
       "        text-align: right;\n",
       "    }\n",
       "</style>\n",
       "<table border=\"1\" class=\"dataframe\">\n",
       "  <thead>\n",
       "    <tr style=\"text-align: right;\">\n",
       "      <th></th>\n",
       "      <th>age</th>\n",
       "      <th>anaemia</th>\n",
       "      <th>creatinine_phosphokinase</th>\n",
       "      <th>diabetes</th>\n",
       "      <th>ejection_fraction</th>\n",
       "      <th>high_blood_pressure</th>\n",
       "      <th>platelets</th>\n",
       "      <th>serum_creatinine</th>\n",
       "      <th>serum_sodium</th>\n",
       "      <th>sex</th>\n",
       "      <th>smoking</th>\n",
       "      <th>time</th>\n",
       "      <th>DEATH_EVENT</th>\n",
       "    </tr>\n",
       "  </thead>\n",
       "  <tbody>\n",
       "    <tr>\n",
       "      <th>0</th>\n",
       "      <td>75.0</td>\n",
       "      <td>0</td>\n",
       "      <td>582</td>\n",
       "      <td>0</td>\n",
       "      <td>20</td>\n",
       "      <td>1</td>\n",
       "      <td>265000.00</td>\n",
       "      <td>1.9</td>\n",
       "      <td>130</td>\n",
       "      <td>1</td>\n",
       "      <td>0</td>\n",
       "      <td>4</td>\n",
       "      <td>1</td>\n",
       "    </tr>\n",
       "    <tr>\n",
       "      <th>1</th>\n",
       "      <td>55.0</td>\n",
       "      <td>0</td>\n",
       "      <td>7861</td>\n",
       "      <td>0</td>\n",
       "      <td>38</td>\n",
       "      <td>0</td>\n",
       "      <td>263358.03</td>\n",
       "      <td>1.1</td>\n",
       "      <td>136</td>\n",
       "      <td>1</td>\n",
       "      <td>0</td>\n",
       "      <td>6</td>\n",
       "      <td>1</td>\n",
       "    </tr>\n",
       "    <tr>\n",
       "      <th>2</th>\n",
       "      <td>65.0</td>\n",
       "      <td>0</td>\n",
       "      <td>146</td>\n",
       "      <td>0</td>\n",
       "      <td>20</td>\n",
       "      <td>0</td>\n",
       "      <td>162000.00</td>\n",
       "      <td>1.3</td>\n",
       "      <td>129</td>\n",
       "      <td>1</td>\n",
       "      <td>1</td>\n",
       "      <td>7</td>\n",
       "      <td>1</td>\n",
       "    </tr>\n",
       "    <tr>\n",
       "      <th>3</th>\n",
       "      <td>50.0</td>\n",
       "      <td>1</td>\n",
       "      <td>111</td>\n",
       "      <td>0</td>\n",
       "      <td>20</td>\n",
       "      <td>0</td>\n",
       "      <td>210000.00</td>\n",
       "      <td>1.9</td>\n",
       "      <td>137</td>\n",
       "      <td>1</td>\n",
       "      <td>0</td>\n",
       "      <td>7</td>\n",
       "      <td>1</td>\n",
       "    </tr>\n",
       "    <tr>\n",
       "      <th>4</th>\n",
       "      <td>65.0</td>\n",
       "      <td>1</td>\n",
       "      <td>160</td>\n",
       "      <td>1</td>\n",
       "      <td>20</td>\n",
       "      <td>0</td>\n",
       "      <td>327000.00</td>\n",
       "      <td>2.7</td>\n",
       "      <td>116</td>\n",
       "      <td>0</td>\n",
       "      <td>0</td>\n",
       "      <td>8</td>\n",
       "      <td>1</td>\n",
       "    </tr>\n",
       "    <tr>\n",
       "      <th>...</th>\n",
       "      <td>...</td>\n",
       "      <td>...</td>\n",
       "      <td>...</td>\n",
       "      <td>...</td>\n",
       "      <td>...</td>\n",
       "      <td>...</td>\n",
       "      <td>...</td>\n",
       "      <td>...</td>\n",
       "      <td>...</td>\n",
       "      <td>...</td>\n",
       "      <td>...</td>\n",
       "      <td>...</td>\n",
       "      <td>...</td>\n",
       "    </tr>\n",
       "    <tr>\n",
       "      <th>294</th>\n",
       "      <td>62.0</td>\n",
       "      <td>0</td>\n",
       "      <td>61</td>\n",
       "      <td>1</td>\n",
       "      <td>38</td>\n",
       "      <td>1</td>\n",
       "      <td>155000.00</td>\n",
       "      <td>1.1</td>\n",
       "      <td>143</td>\n",
       "      <td>1</td>\n",
       "      <td>1</td>\n",
       "      <td>270</td>\n",
       "      <td>0</td>\n",
       "    </tr>\n",
       "    <tr>\n",
       "      <th>295</th>\n",
       "      <td>55.0</td>\n",
       "      <td>0</td>\n",
       "      <td>1820</td>\n",
       "      <td>0</td>\n",
       "      <td>38</td>\n",
       "      <td>0</td>\n",
       "      <td>270000.00</td>\n",
       "      <td>1.2</td>\n",
       "      <td>139</td>\n",
       "      <td>0</td>\n",
       "      <td>0</td>\n",
       "      <td>271</td>\n",
       "      <td>0</td>\n",
       "    </tr>\n",
       "    <tr>\n",
       "      <th>296</th>\n",
       "      <td>45.0</td>\n",
       "      <td>0</td>\n",
       "      <td>2060</td>\n",
       "      <td>1</td>\n",
       "      <td>60</td>\n",
       "      <td>0</td>\n",
       "      <td>742000.00</td>\n",
       "      <td>0.8</td>\n",
       "      <td>138</td>\n",
       "      <td>0</td>\n",
       "      <td>0</td>\n",
       "      <td>278</td>\n",
       "      <td>0</td>\n",
       "    </tr>\n",
       "    <tr>\n",
       "      <th>297</th>\n",
       "      <td>45.0</td>\n",
       "      <td>0</td>\n",
       "      <td>2413</td>\n",
       "      <td>0</td>\n",
       "      <td>38</td>\n",
       "      <td>0</td>\n",
       "      <td>140000.00</td>\n",
       "      <td>1.4</td>\n",
       "      <td>140</td>\n",
       "      <td>1</td>\n",
       "      <td>1</td>\n",
       "      <td>280</td>\n",
       "      <td>0</td>\n",
       "    </tr>\n",
       "    <tr>\n",
       "      <th>298</th>\n",
       "      <td>50.0</td>\n",
       "      <td>0</td>\n",
       "      <td>196</td>\n",
       "      <td>0</td>\n",
       "      <td>45</td>\n",
       "      <td>0</td>\n",
       "      <td>395000.00</td>\n",
       "      <td>1.6</td>\n",
       "      <td>136</td>\n",
       "      <td>1</td>\n",
       "      <td>1</td>\n",
       "      <td>285</td>\n",
       "      <td>0</td>\n",
       "    </tr>\n",
       "  </tbody>\n",
       "</table>\n",
       "<p>299 rows × 13 columns</p>\n",
       "</div>"
      ],
      "text/plain": [
       "      age  anaemia  creatinine_phosphokinase  diabetes  ejection_fraction  \\\n",
       "0    75.0        0                       582         0                 20   \n",
       "1    55.0        0                      7861         0                 38   \n",
       "2    65.0        0                       146         0                 20   \n",
       "3    50.0        1                       111         0                 20   \n",
       "4    65.0        1                       160         1                 20   \n",
       "..    ...      ...                       ...       ...                ...   \n",
       "294  62.0        0                        61         1                 38   \n",
       "295  55.0        0                      1820         0                 38   \n",
       "296  45.0        0                      2060         1                 60   \n",
       "297  45.0        0                      2413         0                 38   \n",
       "298  50.0        0                       196         0                 45   \n",
       "\n",
       "     high_blood_pressure  platelets  serum_creatinine  serum_sodium  sex  \\\n",
       "0                      1  265000.00               1.9           130    1   \n",
       "1                      0  263358.03               1.1           136    1   \n",
       "2                      0  162000.00               1.3           129    1   \n",
       "3                      0  210000.00               1.9           137    1   \n",
       "4                      0  327000.00               2.7           116    0   \n",
       "..                   ...        ...               ...           ...  ...   \n",
       "294                    1  155000.00               1.1           143    1   \n",
       "295                    0  270000.00               1.2           139    0   \n",
       "296                    0  742000.00               0.8           138    0   \n",
       "297                    0  140000.00               1.4           140    1   \n",
       "298                    0  395000.00               1.6           136    1   \n",
       "\n",
       "     smoking  time  DEATH_EVENT  \n",
       "0          0     4            1  \n",
       "1          0     6            1  \n",
       "2          1     7            1  \n",
       "3          0     7            1  \n",
       "4          0     8            1  \n",
       "..       ...   ...          ...  \n",
       "294        1   270            0  \n",
       "295        0   271            0  \n",
       "296        0   278            0  \n",
       "297        1   280            0  \n",
       "298        1   285            0  \n",
       "\n",
       "[299 rows x 13 columns]"
      ]
     },
     "execution_count": 32,
     "metadata": {},
     "output_type": "execute_result"
    }
   ],
   "source": [
    "# Load data\n",
    "df = pd.read_csv('../data/raw/heart_failure_clinical_records_dataset.csv')\n",
    "df"
   ]
  },
  {
   "cell_type": "code",
   "execution_count": 4,
   "id": "c8b4080a-e175-4765-8c4e-84a8d55d22ed",
   "metadata": {},
   "outputs": [],
   "source": [
    "train_df, test_df = train_test_split(df, test_size=0.2, random_state=123)\n",
    "train_file = '../data/processed/Heart_Failure_Data_train.csv'\n",
    "test_file = '../data/processedHeart_Failure_Data_test.csv'\n",
    "train_df.to_csv(train_file, index=False)\n",
    "test_df.to_csv(test_file, index=False)"
   ]
  },
  {
   "cell_type": "code",
   "execution_count": 5,
   "id": "70ce06ab-9186-4996-a8d4-2815f973da0c",
   "metadata": {},
   "outputs": [],
   "source": [
    "#Reading the data\n",
    "train_df = pd.read_csv(\"../data/processed/Heart_Failure_Data_train.csv\")\n",
    "test_df = pd.read_csv(\"../data/processed/Heart_Failure_Data_test.csv\")"
   ]
  },
  {
   "cell_type": "code",
   "execution_count": 6,
   "id": "e0f92604-bfb4-47f0-b248-2bee45627710",
   "metadata": {},
   "outputs": [
    {
     "data": {
      "text/plain": [
       "0    168\n",
       "1     71\n",
       "Name: DEATH_EVENT, dtype: int64"
      ]
     },
     "execution_count": 6,
     "metadata": {},
     "output_type": "execute_result"
    }
   ],
   "source": [
    "train_df['DEATH_EVENT'].value_counts()"
   ]
  },
  {
   "cell_type": "markdown",
   "id": "14c40e1c-f251-42e1-8803-7dc017cb77d6",
   "metadata": {},
   "source": [
    "* The dataset is imbalanced as we have lesser number of examples of DEATH_EVENT.\n",
    "* To tackle this problem we can use the class weight in our training model so that the results will be less biased."
   ]
  },
  {
   "cell_type": "markdown",
   "id": "99815006-cfd6-496c-a4d2-06769c4ef2a6",
   "metadata": {},
   "source": [
    "##### Let's split the data to train our model :"
   ]
  },
  {
   "cell_type": "code",
   "execution_count": 7,
   "id": "9e669527-78d1-49e1-8133-fca2a6896d74",
   "metadata": {},
   "outputs": [],
   "source": [
    "# Data splitting\n",
    "X_train = train_df.drop(\"DEATH_EVENT\", axis=1)\n",
    "y_train = train_df['DEATH_EVENT']\n",
    "X_test = test_df.drop(\"DEATH_EVENT\", axis=1)\n",
    "y_test = test_df['DEATH_EVENT']"
   ]
  },
  {
   "cell_type": "markdown",
   "id": "eb9e07f4-7dd6-4d92-a9f0-5791db5c6976",
   "metadata": {},
   "source": [
    "* We will categorize the features in the dataset for prerocessing.\n",
    "* Even though all the values are numeric, 'sex', 'diabetes', 'high_blood_pressure', 'anaemia' - these features have yes/no or binary values.Thus we'll apply OneHotEncoder on binary features.\n",
    "* To bring all the numeric values in same scale , we apply StandardScalar on numeric features.\n",
    "* Our target is the feature - 'DEATH_EVENT'"
   ]
  },
  {
   "cell_type": "code",
   "execution_count": 38,
   "id": "0562e4cb-e84f-44c2-bec0-5964dcfd1903",
   "metadata": {},
   "outputs": [],
   "source": [
    "# Seperate the features for preprocessing\n",
    "numeric_features = ['age','creatinine_phosphokinase','ejection_fraction',\n",
    "                    'platelets','serum_creatinine','serum_sodium','time']\n",
    "\n",
    "binary_feats = ['sex', 'diabetes', 'high_blood_pressure', 'anaemia']\n",
    "target= \"DEATH_EVENT\""
   ]
  },
  {
   "cell_type": "code",
   "execution_count": 39,
   "id": "62b62ac0-7d1a-49c5-ae7b-d8786e3a780d",
   "metadata": {},
   "outputs": [],
   "source": [
    "#define a column transformer\n",
    "col_trans = make_column_transformer(\n",
    "    (StandardScaler(), numeric_features),\n",
    "    (OneHotEncoder(drop=\"if_binary\", dtype=\"int\"), binary_feats),\n",
    "\n",
    ")"
   ]
  },
  {
   "cell_type": "markdown",
   "id": "cc362785-a7da-48dd-9e2a-1d79ebdae553",
   "metadata": {},
   "source": [
    "##### We are using 'accuracy', 'precision', 'recall', 'f1' as our metrics to evaluate the model"
   ]
  },
  {
   "cell_type": "code",
   "execution_count": 40,
   "id": "9245c3e4-e70c-44a0-88ce-6cef0efad9ac",
   "metadata": {},
   "outputs": [],
   "source": [
    "# Define the metrics\n",
    "scoring = ['accuracy', 'precision', 'recall', 'f1']\n"
   ]
  },
  {
   "cell_type": "markdown",
   "id": "aca9f479-37ba-4ef5-822e-b7ee13621a02",
   "metadata": {},
   "source": [
    "#### Here we are using two classifiers for the initial performance calculation : \n",
    "1. KNeighborsClassifier\n",
    "2. RandomForestClassifier"
   ]
  },
  {
   "cell_type": "code",
   "execution_count": 41,
   "id": "2dbea837-d5a6-4d71-9d09-0ed5d8949c3c",
   "metadata": {},
   "outputs": [],
   "source": [
    "#Performance calculation\n",
    "results = {}\n",
    "pipe_knn = make_pipeline(\n",
    "    col_trans,\n",
    "    KNeighborsClassifier(n_neighbors=3)\n",
    ")\n",
    "results['KNeighborsClassifier'] = pd.DataFrame(cross_validate(pipe_knn, X_train,\n",
    "                                        y_train, scoring=scoring)).mean()\n",
    "\n",
    "pipe_rf = make_pipeline(\n",
    "    col_trans,\n",
    "    RandomForestClassifier(random_state=123)\n",
    ")\n",
    "results['RandomForestClassifier'] = pd.DataFrame(cross_validate(pipe_rf, X_train,\n",
    "                                                y_train, scoring=scoring)).mean()"
   ]
  },
  {
   "cell_type": "code",
   "execution_count": 42,
   "id": "92064a59-7a4c-4da8-92ad-934274a167e3",
   "metadata": {},
   "outputs": [
    {
     "data": {
      "text/html": [
       "<div>\n",
       "<style scoped>\n",
       "    .dataframe tbody tr th:only-of-type {\n",
       "        vertical-align: middle;\n",
       "    }\n",
       "\n",
       "    .dataframe tbody tr th {\n",
       "        vertical-align: top;\n",
       "    }\n",
       "\n",
       "    .dataframe thead th {\n",
       "        text-align: right;\n",
       "    }\n",
       "</style>\n",
       "<table border=\"1\" class=\"dataframe\">\n",
       "  <thead>\n",
       "    <tr style=\"text-align: right;\">\n",
       "      <th></th>\n",
       "      <th>KNeighborsClassifier</th>\n",
       "      <th>RandomForestClassifier</th>\n",
       "    </tr>\n",
       "  </thead>\n",
       "  <tbody>\n",
       "    <tr>\n",
       "      <th>fit_time</th>\n",
       "      <td>0.012466</td>\n",
       "      <td>0.150226</td>\n",
       "    </tr>\n",
       "    <tr>\n",
       "      <th>score_time</th>\n",
       "      <td>0.013371</td>\n",
       "      <td>0.019212</td>\n",
       "    </tr>\n",
       "    <tr>\n",
       "      <th>test_accuracy</th>\n",
       "      <td>0.753103</td>\n",
       "      <td>0.844858</td>\n",
       "    </tr>\n",
       "    <tr>\n",
       "      <th>test_precision</th>\n",
       "      <td>0.634524</td>\n",
       "      <td>0.775291</td>\n",
       "    </tr>\n",
       "    <tr>\n",
       "      <th>test_recall</th>\n",
       "      <td>0.350476</td>\n",
       "      <td>0.688571</td>\n",
       "    </tr>\n",
       "    <tr>\n",
       "      <th>test_f1</th>\n",
       "      <td>0.445406</td>\n",
       "      <td>0.724418</td>\n",
       "    </tr>\n",
       "  </tbody>\n",
       "</table>\n",
       "</div>"
      ],
      "text/plain": [
       "                KNeighborsClassifier  RandomForestClassifier\n",
       "fit_time                    0.012466                0.150226\n",
       "score_time                  0.013371                0.019212\n",
       "test_accuracy               0.753103                0.844858\n",
       "test_precision              0.634524                0.775291\n",
       "test_recall                 0.350476                0.688571\n",
       "test_f1                     0.445406                0.724418"
      ]
     },
     "execution_count": 42,
     "metadata": {},
     "output_type": "execute_result"
    }
   ],
   "source": [
    "pd.DataFrame(results)"
   ]
  },
  {
   "cell_type": "markdown",
   "id": "033640ac-0718-4de6-8dae-7d4231c106c0",
   "metadata": {},
   "source": [
    "* We can observe that we arre getting better scores with RandomForestClassifier. To analyze further let's perform hyperparameter optimization on RandomForestClassifier."
   ]
  },
  {
   "cell_type": "code",
   "execution_count": 43,
   "id": "9f8756eb-8efb-4424-85bc-f8adb18f1207",
   "metadata": {},
   "outputs": [
    {
     "data": {
      "text/plain": [
       "RandomizedSearchCV(estimator=Pipeline(steps=[('columntransformer',\n",
       "                                              ColumnTransformer(transformers=[('standardscaler',\n",
       "                                                                               StandardScaler(),\n",
       "                                                                               ['age',\n",
       "                                                                                'creatinine_phosphokinase',\n",
       "                                                                                'ejection_fraction',\n",
       "                                                                                'platelets',\n",
       "                                                                                'serum_creatinine',\n",
       "                                                                                'serum_sodium',\n",
       "                                                                                'time']),\n",
       "                                                                              ('onehotencoder',\n",
       "                                                                               OneHotEncoder(drop='if_binary',\n",
       "                                                                                             dtype='int'),\n",
       "                                                                               ['sex',\n",
       "                                                                                'diabetes',\n",
       "                                                                                'high_blood_pressure',\n",
       "                                                                                'anaemi...\n",
       "                                             ('randomforestclassifier',\n",
       "                                              RandomForestClassifier(random_state=123))]),\n",
       "                   n_iter=20,\n",
       "                   param_distributions={'randomforestclassifier__class_weight': [None,\n",
       "                                                                                 'balanced'],\n",
       "                                        'randomforestclassifier__max_depth': array([10, 12, 14, 16, 18]),\n",
       "                                        'randomforestclassifier__n_estimators': [10,\n",
       "                                                                                 20,\n",
       "                                                                                 40,\n",
       "                                                                                 100,\n",
       "                                                                                 200,\n",
       "                                                                                 400,\n",
       "                                                                                 800]},\n",
       "                   random_state=952, refit='precision',\n",
       "                   scoring=['accuracy', 'precision', 'recall', 'f1'])"
      ]
     },
     "execution_count": 43,
     "metadata": {},
     "output_type": "execute_result"
    }
   ],
   "source": [
    "param_dist = {\n",
    "    \"randomforestclassifier__max_depth\": np.arange(10, 20, 2),\n",
    "    \"randomforestclassifier__class_weight\": [None, \"balanced\"],\n",
    "    \"randomforestclassifier__n_estimators\": [10, 20, 40, 100, 200, 400, 800],\n",
    "}\n",
    "rand_search_rf = RandomizedSearchCV(pipe_rf, param_dist, n_iter=20, \n",
    "                                    random_state=952, scoring=scoring, refit=\"precision\")\n",
    "\n",
    "rand_search_rf.fit(X_train, y_train)"
   ]
  },
  {
   "cell_type": "code",
   "execution_count": 44,
   "id": "657ea1fa-9b15-4bf4-a7c4-014b1e041755",
   "metadata": {},
   "outputs": [
    {
     "data": {
      "text/plain": [
       "array([0, 0, 0, 1, 1, 0, 1, 0, 1, 0, 1, 0, 1, 0, 0, 0, 1, 0, 0, 0, 1, 1,\n",
       "       0, 0, 0, 0, 1, 1, 0, 1, 0, 0, 0, 0, 1, 1, 1, 0, 0, 1, 0, 0, 0, 1,\n",
       "       0, 1, 0, 0, 0, 0, 0, 1, 0, 0, 0, 0, 1, 1, 0, 0, 0, 0, 0, 0, 0, 0,\n",
       "       0, 0, 0, 0, 0, 0, 0, 0, 0, 0, 0, 0, 0, 1, 0, 0, 0, 1, 0, 0, 0, 0,\n",
       "       1, 0, 1, 0, 0, 0, 0, 0, 0, 0, 1, 0, 1, 0, 0, 1, 0, 1, 0, 0, 0, 0,\n",
       "       0, 0, 1, 0, 0, 1, 1, 1, 0, 0, 0, 0, 0, 1, 1, 0, 1, 0, 1, 1, 1, 1,\n",
       "       0, 0, 0, 0, 1, 0, 0, 0, 0, 0, 1, 1, 0, 0, 0, 1, 0, 1, 0, 0, 0, 0,\n",
       "       0, 1, 1, 0, 0, 0, 0, 0, 1, 0, 0, 1, 1, 0, 0, 0, 0, 1, 0, 0, 1, 1,\n",
       "       0, 1, 1, 1, 0, 0, 0, 1, 1, 0, 1, 0, 0, 0, 1, 0, 0, 0, 0, 0, 0, 0,\n",
       "       0, 0, 0, 0, 0, 0, 0, 0, 0, 0, 0, 1, 0, 0, 0, 0, 0, 1, 1, 1, 1, 0,\n",
       "       0, 0, 0, 0, 1, 0, 1, 1, 1, 0, 0, 0, 0, 0, 0, 0, 1, 1, 0],\n",
       "      dtype=int64)"
      ]
     },
     "execution_count": 44,
     "metadata": {},
     "output_type": "execute_result"
    }
   ],
   "source": [
    "# Test the fitted model \n",
    "y_train_predict = rand_search_rf.predict(X_train)\n",
    "y_train_predict"
   ]
  },
  {
   "cell_type": "code",
   "execution_count": 45,
   "id": "9d7bd6c0-d081-4aa5-a569-766b551656be",
   "metadata": {},
   "outputs": [
    {
     "data": {
      "text/plain": [
       "array([0, 0, 0, 0, 0, 1, 1, 0, 0, 0, 0, 0, 1, 0, 1, 1, 1, 0, 1, 0, 0, 0,\n",
       "       1, 0, 1, 1, 0, 0, 0, 1, 0, 0, 0, 0, 0, 1, 0, 0, 1, 1, 0, 1, 0, 1,\n",
       "       0, 0, 0, 0, 0, 0, 1, 0, 0, 1, 0, 0, 0, 0, 1, 1], dtype=int64)"
      ]
     },
     "execution_count": 45,
     "metadata": {},
     "output_type": "execute_result"
    }
   ],
   "source": [
    "# Predict on test data\n",
    "y_predict = rand_search_rf.predict(X_test)\n",
    "y_predict"
   ]
  },
  {
   "cell_type": "code",
   "execution_count": 46,
   "id": "7c24c7eb-27e5-4170-a81f-583ddf9591b3",
   "metadata": {},
   "outputs": [
    {
     "data": {
      "text/html": [
       "<div>\n",
       "<style scoped>\n",
       "    .dataframe tbody tr th:only-of-type {\n",
       "        vertical-align: middle;\n",
       "    }\n",
       "\n",
       "    .dataframe tbody tr th {\n",
       "        vertical-align: top;\n",
       "    }\n",
       "\n",
       "    .dataframe thead th {\n",
       "        text-align: right;\n",
       "    }\n",
       "</style>\n",
       "<table border=\"1\" class=\"dataframe\">\n",
       "  <thead>\n",
       "    <tr style=\"text-align: right;\">\n",
       "      <th></th>\n",
       "      <th>Accuracy</th>\n",
       "      <th>Precision</th>\n",
       "      <th>Recall</th>\n",
       "      <th>F1 Score</th>\n",
       "    </tr>\n",
       "  </thead>\n",
       "  <tbody>\n",
       "    <tr>\n",
       "      <th>Training Data Set</th>\n",
       "      <td>1.000000</td>\n",
       "      <td>1.00</td>\n",
       "      <td>1.00</td>\n",
       "      <td>1.000000</td>\n",
       "    </tr>\n",
       "    <tr>\n",
       "      <th>Test Data Set</th>\n",
       "      <td>0.816667</td>\n",
       "      <td>0.85</td>\n",
       "      <td>0.68</td>\n",
       "      <td>0.755556</td>\n",
       "    </tr>\n",
       "  </tbody>\n",
       "</table>\n",
       "</div>"
      ],
      "text/plain": [
       "                   Accuracy  Precision  Recall  F1 Score\n",
       "Training Data Set  1.000000       1.00    1.00  1.000000\n",
       "Test Data Set      0.816667       0.85    0.68  0.755556"
      ]
     },
     "execution_count": 46,
     "metadata": {},
     "output_type": "execute_result"
    }
   ],
   "source": [
    "# Table of Metrics for positive class for train and test set\n",
    "performance_df = pd.DataFrame(\n",
    "    {\n",
    "        \"Accuracy\": [accuracy_score(y_train, y_train_predict), accuracy_score(y_test, y_predict)],\n",
    "        \"Precision\": [precision_score(y_train, y_train_predict), precision_score(y_test, y_predict)],\n",
    "        \"Recall\": [recall_score(y_train, y_train_predict), recall_score(y_test, y_predict)],\n",
    "        \"F1 Score\": [f1_score(y_train, y_train_predict), f1_score(y_test, y_predict)]\n",
    "    },\n",
    "    index=[\"Training Data Set\", \"Test Data Set\"])\n",
    "performance_df"
   ]
  },
  {
   "cell_type": "markdown",
   "id": "5794c0ee-b637-4295-b3d8-b955ff445347",
   "metadata": {},
   "source": [
    "##### Since we are interested in predicting the death of person, 'DEATH_EVENT' is our positive class"
   ]
  },
  {
   "cell_type": "code",
   "execution_count": 47,
   "id": "f149c6da-4edd-4057-9af1-344f52ba4f43",
   "metadata": {},
   "outputs": [
    {
     "data": {
      "image/png": "[encoded data removed]",
      "text/plain": [
       "<Figure size 432x288 with 2 Axes>"
      ]
     },
     "metadata": {
      "needs_background": "light"
     },
     "output_type": "display_data"
    }
   ],
   "source": [
    "from sklearn.metrics import ConfusionMatrixDisplay,classification_report\n",
    "\n",
    "pipe_rf.fit(X_train, y_train)\n",
    "cm = ConfusionMatrixDisplay.from_estimator(\n",
    "    pipe_rf, X_train, y_train, values_format=\"d\", display_labels=[\"No Death Event\", \"Death Event\"]\n",
    ")\n",
    "\n"
   ]
  },
  {
   "cell_type": "markdown",
   "id": "4bbb8ece-ba82-47d0-ba76-017be80fbc9b",
   "metadata": {},
   "source": [
    "##### We can see from the above confusion matrix that we got rid of 'False Positives' and 'False Negatives'. Now let's visualize the confusion matrix of test data."
   ]
  },
  {
   "cell_type": "code",
   "execution_count": 48,
   "id": "66742fd3-c892-4923-baf8-b0821f7fdb5f",
   "metadata": {},
   "outputs": [
    {
     "data": {
      "image/png": "[encoded data removed]",
      "text/plain": [
       "<Figure size 432x288 with 2 Axes>"
      ]
     },
     "metadata": {
      "needs_background": "light"
     },
     "output_type": "display_data"
    }
   ],
   "source": [
    "# Confusion Matrix for the test set\n",
    "\n",
    "pipe_rf.fit(X_test, y_test)\n",
    "cm = ConfusionMatrixDisplay.from_estimator(\n",
    "    pipe_rf, X_train, y_train, values_format=\"d\", display_labels=[\"No Death Event\",\"Death Event\"]\n",
    ")"
   ]
  },
  {
   "cell_type": "markdown",
   "id": "5f961876-763b-4adc-b7be-f47390db60ed",
   "metadata": {},
   "source": [
    "##### - From the above confusion matrix for the test data we can observe that With the RandomForestClassifier we got 22 'False Positives'. This means our model predicted 18 cases as death but in reality no death event has occured for those cases.\n",
    "##### - Similarly we got 16 'False Negatives'. This means our model predicted 18 cases as no death but in reality death event has occured for those cases.\n"
   ]
  },
  {
   "cell_type": "markdown",
   "id": "4f07a2b6-2f73-455b-a585-79d6be641583",
   "metadata": {},
   "source": [
    "### Test the model :"
   ]
  },
  {
   "cell_type": "code",
   "execution_count": 49,
   "id": "6bca95a5-2c78-49bc-ba52-118efa286974",
   "metadata": {},
   "outputs": [
    {
     "name": "stdout",
     "output_type": "stream",
     "text": [
      "                precision    recall  f1-score   support\n",
      "\n",
      "No Death Event       0.80      0.91      0.85        35\n",
      "   Death Event       0.85      0.68      0.76        25\n",
      "\n",
      "      accuracy                           0.82        60\n",
      "     macro avg       0.82      0.80      0.80        60\n",
      "  weighted avg       0.82      0.82      0.81        60\n",
      "\n"
     ]
    }
   ],
   "source": [
    "print(\n",
    "    classification_report(\n",
    "        y_test, rand_search_rf.predict(X_test), target_names=[\"No Death Event\",\"Death Event\"]\n",
    "    )\n",
    ")"
   ]
  },
  {
   "cell_type": "code",
   "execution_count": 50,
   "id": "0b8c24e5-c438-426d-a797-93d3f40464ba",
   "metadata": {},
   "outputs": [
    {
     "data": {
      "text/html": [
       "<div>\n",
       "<style scoped>\n",
       "    .dataframe tbody tr th:only-of-type {\n",
       "        vertical-align: middle;\n",
       "    }\n",
       "\n",
       "    .dataframe tbody tr th {\n",
       "        vertical-align: top;\n",
       "    }\n",
       "\n",
       "    .dataframe thead th {\n",
       "        text-align: right;\n",
       "    }\n",
       "</style>\n",
       "<table border=\"1\" class=\"dataframe\">\n",
       "  <thead>\n",
       "    <tr style=\"text-align: right;\">\n",
       "      <th></th>\n",
       "      <th>precision</th>\n",
       "      <th>recall</th>\n",
       "      <th>threshold</th>\n",
       "      <th>F1 Score</th>\n",
       "    </tr>\n",
       "  </thead>\n",
       "  <tbody>\n",
       "    <tr>\n",
       "      <th>0</th>\n",
       "      <td>1.0</td>\n",
       "      <td>1.000000</td>\n",
       "      <td>0.585</td>\n",
       "      <td>1.000000</td>\n",
       "    </tr>\n",
       "    <tr>\n",
       "      <th>1</th>\n",
       "      <td>1.0</td>\n",
       "      <td>0.985915</td>\n",
       "      <td>0.625</td>\n",
       "      <td>0.992908</td>\n",
       "    </tr>\n",
       "    <tr>\n",
       "      <th>2</th>\n",
       "      <td>1.0</td>\n",
       "      <td>0.971831</td>\n",
       "      <td>0.635</td>\n",
       "      <td>0.985714</td>\n",
       "    </tr>\n",
       "    <tr>\n",
       "      <th>3</th>\n",
       "      <td>1.0</td>\n",
       "      <td>0.957746</td>\n",
       "      <td>0.640</td>\n",
       "      <td>0.978417</td>\n",
       "    </tr>\n",
       "    <tr>\n",
       "      <th>4</th>\n",
       "      <td>1.0</td>\n",
       "      <td>0.929577</td>\n",
       "      <td>0.645</td>\n",
       "      <td>0.963504</td>\n",
       "    </tr>\n",
       "    <tr>\n",
       "      <th>5</th>\n",
       "      <td>1.0</td>\n",
       "      <td>0.915493</td>\n",
       "      <td>0.665</td>\n",
       "      <td>0.955882</td>\n",
       "    </tr>\n",
       "    <tr>\n",
       "      <th>6</th>\n",
       "      <td>1.0</td>\n",
       "      <td>0.901408</td>\n",
       "      <td>0.700</td>\n",
       "      <td>0.948148</td>\n",
       "    </tr>\n",
       "    <tr>\n",
       "      <th>7</th>\n",
       "      <td>1.0</td>\n",
       "      <td>0.873239</td>\n",
       "      <td>0.715</td>\n",
       "      <td>0.932331</td>\n",
       "    </tr>\n",
       "    <tr>\n",
       "      <th>8</th>\n",
       "      <td>1.0</td>\n",
       "      <td>0.859155</td>\n",
       "      <td>0.720</td>\n",
       "      <td>0.924242</td>\n",
       "    </tr>\n",
       "    <tr>\n",
       "      <th>9</th>\n",
       "      <td>1.0</td>\n",
       "      <td>0.845070</td>\n",
       "      <td>0.725</td>\n",
       "      <td>0.916031</td>\n",
       "    </tr>\n",
       "    <tr>\n",
       "      <th>10</th>\n",
       "      <td>1.0</td>\n",
       "      <td>0.830986</td>\n",
       "      <td>0.745</td>\n",
       "      <td>0.907692</td>\n",
       "    </tr>\n",
       "    <tr>\n",
       "      <th>11</th>\n",
       "      <td>1.0</td>\n",
       "      <td>0.802817</td>\n",
       "      <td>0.750</td>\n",
       "      <td>0.890625</td>\n",
       "    </tr>\n",
       "    <tr>\n",
       "      <th>12</th>\n",
       "      <td>1.0</td>\n",
       "      <td>0.774648</td>\n",
       "      <td>0.755</td>\n",
       "      <td>0.873016</td>\n",
       "    </tr>\n",
       "    <tr>\n",
       "      <th>13</th>\n",
       "      <td>1.0</td>\n",
       "      <td>0.760563</td>\n",
       "      <td>0.785</td>\n",
       "      <td>0.864000</td>\n",
       "    </tr>\n",
       "    <tr>\n",
       "      <th>14</th>\n",
       "      <td>1.0</td>\n",
       "      <td>0.732394</td>\n",
       "      <td>0.790</td>\n",
       "      <td>0.845528</td>\n",
       "    </tr>\n",
       "    <tr>\n",
       "      <th>15</th>\n",
       "      <td>1.0</td>\n",
       "      <td>0.718310</td>\n",
       "      <td>0.815</td>\n",
       "      <td>0.836066</td>\n",
       "    </tr>\n",
       "    <tr>\n",
       "      <th>16</th>\n",
       "      <td>1.0</td>\n",
       "      <td>0.704225</td>\n",
       "      <td>0.820</td>\n",
       "      <td>0.826446</td>\n",
       "    </tr>\n",
       "    <tr>\n",
       "      <th>17</th>\n",
       "      <td>1.0</td>\n",
       "      <td>0.661972</td>\n",
       "      <td>0.825</td>\n",
       "      <td>0.796610</td>\n",
       "    </tr>\n",
       "    <tr>\n",
       "      <th>18</th>\n",
       "      <td>1.0</td>\n",
       "      <td>0.647887</td>\n",
       "      <td>0.835</td>\n",
       "      <td>0.786325</td>\n",
       "    </tr>\n",
       "    <tr>\n",
       "      <th>19</th>\n",
       "      <td>1.0</td>\n",
       "      <td>0.633803</td>\n",
       "      <td>0.840</td>\n",
       "      <td>0.775862</td>\n",
       "    </tr>\n",
       "    <tr>\n",
       "      <th>20</th>\n",
       "      <td>1.0</td>\n",
       "      <td>0.619718</td>\n",
       "      <td>0.845</td>\n",
       "      <td>0.765217</td>\n",
       "    </tr>\n",
       "    <tr>\n",
       "      <th>21</th>\n",
       "      <td>1.0</td>\n",
       "      <td>0.605634</td>\n",
       "      <td>0.850</td>\n",
       "      <td>0.754386</td>\n",
       "    </tr>\n",
       "    <tr>\n",
       "      <th>22</th>\n",
       "      <td>1.0</td>\n",
       "      <td>0.591549</td>\n",
       "      <td>0.855</td>\n",
       "      <td>0.743363</td>\n",
       "    </tr>\n",
       "    <tr>\n",
       "      <th>23</th>\n",
       "      <td>1.0</td>\n",
       "      <td>0.577465</td>\n",
       "      <td>0.860</td>\n",
       "      <td>0.732143</td>\n",
       "    </tr>\n",
       "    <tr>\n",
       "      <th>24</th>\n",
       "      <td>1.0</td>\n",
       "      <td>0.549296</td>\n",
       "      <td>0.865</td>\n",
       "      <td>0.709091</td>\n",
       "    </tr>\n",
       "    <tr>\n",
       "      <th>25</th>\n",
       "      <td>1.0</td>\n",
       "      <td>0.521127</td>\n",
       "      <td>0.870</td>\n",
       "      <td>0.685185</td>\n",
       "    </tr>\n",
       "    <tr>\n",
       "      <th>26</th>\n",
       "      <td>1.0</td>\n",
       "      <td>0.492958</td>\n",
       "      <td>0.875</td>\n",
       "      <td>0.660377</td>\n",
       "    </tr>\n",
       "    <tr>\n",
       "      <th>27</th>\n",
       "      <td>1.0</td>\n",
       "      <td>0.450704</td>\n",
       "      <td>0.880</td>\n",
       "      <td>0.621359</td>\n",
       "    </tr>\n",
       "    <tr>\n",
       "      <th>28</th>\n",
       "      <td>1.0</td>\n",
       "      <td>0.422535</td>\n",
       "      <td>0.885</td>\n",
       "      <td>0.594059</td>\n",
       "    </tr>\n",
       "    <tr>\n",
       "      <th>29</th>\n",
       "      <td>1.0</td>\n",
       "      <td>0.366197</td>\n",
       "      <td>0.890</td>\n",
       "      <td>0.536082</td>\n",
       "    </tr>\n",
       "    <tr>\n",
       "      <th>30</th>\n",
       "      <td>1.0</td>\n",
       "      <td>0.338028</td>\n",
       "      <td>0.895</td>\n",
       "      <td>0.505263</td>\n",
       "    </tr>\n",
       "    <tr>\n",
       "      <th>31</th>\n",
       "      <td>1.0</td>\n",
       "      <td>0.323944</td>\n",
       "      <td>0.900</td>\n",
       "      <td>0.489362</td>\n",
       "    </tr>\n",
       "    <tr>\n",
       "      <th>32</th>\n",
       "      <td>1.0</td>\n",
       "      <td>0.295775</td>\n",
       "      <td>0.905</td>\n",
       "      <td>0.456522</td>\n",
       "    </tr>\n",
       "    <tr>\n",
       "      <th>33</th>\n",
       "      <td>1.0</td>\n",
       "      <td>0.253521</td>\n",
       "      <td>0.915</td>\n",
       "      <td>0.404494</td>\n",
       "    </tr>\n",
       "    <tr>\n",
       "      <th>34</th>\n",
       "      <td>1.0</td>\n",
       "      <td>0.225352</td>\n",
       "      <td>0.925</td>\n",
       "      <td>0.367816</td>\n",
       "    </tr>\n",
       "    <tr>\n",
       "      <th>35</th>\n",
       "      <td>1.0</td>\n",
       "      <td>0.197183</td>\n",
       "      <td>0.930</td>\n",
       "      <td>0.329412</td>\n",
       "    </tr>\n",
       "    <tr>\n",
       "      <th>36</th>\n",
       "      <td>1.0</td>\n",
       "      <td>0.154930</td>\n",
       "      <td>0.935</td>\n",
       "      <td>0.268293</td>\n",
       "    </tr>\n",
       "    <tr>\n",
       "      <th>37</th>\n",
       "      <td>1.0</td>\n",
       "      <td>0.140845</td>\n",
       "      <td>0.945</td>\n",
       "      <td>0.246914</td>\n",
       "    </tr>\n",
       "    <tr>\n",
       "      <th>38</th>\n",
       "      <td>1.0</td>\n",
       "      <td>0.112676</td>\n",
       "      <td>0.950</td>\n",
       "      <td>0.202532</td>\n",
       "    </tr>\n",
       "    <tr>\n",
       "      <th>39</th>\n",
       "      <td>1.0</td>\n",
       "      <td>0.098592</td>\n",
       "      <td>0.955</td>\n",
       "      <td>0.179487</td>\n",
       "    </tr>\n",
       "    <tr>\n",
       "      <th>40</th>\n",
       "      <td>1.0</td>\n",
       "      <td>0.084507</td>\n",
       "      <td>0.960</td>\n",
       "      <td>0.155844</td>\n",
       "    </tr>\n",
       "    <tr>\n",
       "      <th>41</th>\n",
       "      <td>1.0</td>\n",
       "      <td>0.056338</td>\n",
       "      <td>0.965</td>\n",
       "      <td>0.106667</td>\n",
       "    </tr>\n",
       "    <tr>\n",
       "      <th>42</th>\n",
       "      <td>1.0</td>\n",
       "      <td>0.042254</td>\n",
       "      <td>0.985</td>\n",
       "      <td>0.081081</td>\n",
       "    </tr>\n",
       "    <tr>\n",
       "      <th>43</th>\n",
       "      <td>1.0</td>\n",
       "      <td>0.028169</td>\n",
       "      <td>0.990</td>\n",
       "      <td>0.054795</td>\n",
       "    </tr>\n",
       "    <tr>\n",
       "      <th>44</th>\n",
       "      <td>1.0</td>\n",
       "      <td>0.000000</td>\n",
       "      <td>NaN</td>\n",
       "      <td>0.000000</td>\n",
       "    </tr>\n",
       "  </tbody>\n",
       "</table>\n",
       "</div>"
      ],
      "text/plain": [
       "    precision    recall  threshold  F1 Score\n",
       "0         1.0  1.000000      0.585  1.000000\n",
       "1         1.0  0.985915      0.625  0.992908\n",
       "2         1.0  0.971831      0.635  0.985714\n",
       "3         1.0  0.957746      0.640  0.978417\n",
       "4         1.0  0.929577      0.645  0.963504\n",
       "5         1.0  0.915493      0.665  0.955882\n",
       "6         1.0  0.901408      0.700  0.948148\n",
       "7         1.0  0.873239      0.715  0.932331\n",
       "8         1.0  0.859155      0.720  0.924242\n",
       "9         1.0  0.845070      0.725  0.916031\n",
       "10        1.0  0.830986      0.745  0.907692\n",
       "11        1.0  0.802817      0.750  0.890625\n",
       "12        1.0  0.774648      0.755  0.873016\n",
       "13        1.0  0.760563      0.785  0.864000\n",
       "14        1.0  0.732394      0.790  0.845528\n",
       "15        1.0  0.718310      0.815  0.836066\n",
       "16        1.0  0.704225      0.820  0.826446\n",
       "17        1.0  0.661972      0.825  0.796610\n",
       "18        1.0  0.647887      0.835  0.786325\n",
       "19        1.0  0.633803      0.840  0.775862\n",
       "20        1.0  0.619718      0.845  0.765217\n",
       "21        1.0  0.605634      0.850  0.754386\n",
       "22        1.0  0.591549      0.855  0.743363\n",
       "23        1.0  0.577465      0.860  0.732143\n",
       "24        1.0  0.549296      0.865  0.709091\n",
       "25        1.0  0.521127      0.870  0.685185\n",
       "26        1.0  0.492958      0.875  0.660377\n",
       "27        1.0  0.450704      0.880  0.621359\n",
       "28        1.0  0.422535      0.885  0.594059\n",
       "29        1.0  0.366197      0.890  0.536082\n",
       "30        1.0  0.338028      0.895  0.505263\n",
       "31        1.0  0.323944      0.900  0.489362\n",
       "32        1.0  0.295775      0.905  0.456522\n",
       "33        1.0  0.253521      0.915  0.404494\n",
       "34        1.0  0.225352      0.925  0.367816\n",
       "35        1.0  0.197183      0.930  0.329412\n",
       "36        1.0  0.154930      0.935  0.268293\n",
       "37        1.0  0.140845      0.945  0.246914\n",
       "38        1.0  0.112676      0.950  0.202532\n",
       "39        1.0  0.098592      0.955  0.179487\n",
       "40        1.0  0.084507      0.960  0.155844\n",
       "41        1.0  0.056338      0.965  0.106667\n",
       "42        1.0  0.042254      0.985  0.081081\n",
       "43        1.0  0.028169      0.990  0.054795\n",
       "44        1.0  0.000000        NaN  0.000000"
      ]
     },
     "execution_count": 50,
     "metadata": {},
     "output_type": "execute_result"
    }
   ],
   "source": [
    "# Table of Metrics for train set\n",
    "PR_curve_df = pd.DataFrame(precision_recall_curve(y_train, rand_search_rf.predict_proba(X_train)[:,1],), index=[\"precision\",\"recall\",\"threshold\"]).T\n",
    "PR_curve_df['F1 Score'] =  2 * (PR_curve_df['precision'] * PR_curve_df['recall'])/(PR_curve_df['precision'] + PR_curve_df['recall'])\n",
    "PR_curve_df"
   ]
  },
  {
   "cell_type": "code",
   "execution_count": 51,
   "id": "2d73265a-440a-40ac-b96e-3a4abed5be14",
   "metadata": {},
   "outputs": [
    {
     "name": "stdout",
     "output_type": "stream",
     "text": [
      "Average precision for the  Random Forest Classifier:\n",
      "1.0\n"
     ]
    }
   ],
   "source": [
    "ap_forest = average_precision_score(y_test, pipe_rf.predict_proba(X_test)[:, 1])\n",
    "print(\"Average precision for the  Random Forest Classifier:\")\n",
    "print(ap_forest)"
   ]
  },
  {
   "cell_type": "code",
   "execution_count": 52,
   "id": "77a7be1d-8444-4bb6-b060-d5005af30fb2",
   "metadata": {},
   "outputs": [
    {
     "data": {
      "text/html": [
       "<div>\n",
       "<style scoped>\n",
       "    .dataframe tbody tr th:only-of-type {\n",
       "        vertical-align: middle;\n",
       "    }\n",
       "\n",
       "    .dataframe tbody tr th {\n",
       "        vertical-align: top;\n",
       "    }\n",
       "\n",
       "    .dataframe thead th {\n",
       "        text-align: right;\n",
       "    }\n",
       "</style>\n",
       "<table border=\"1\" class=\"dataframe\">\n",
       "  <thead>\n",
       "    <tr style=\"text-align: right;\">\n",
       "      <th></th>\n",
       "      <th>precision</th>\n",
       "      <th>recall</th>\n",
       "      <th>threshold</th>\n",
       "      <th>F1 Score</th>\n",
       "    </tr>\n",
       "  </thead>\n",
       "  <tbody>\n",
       "    <tr>\n",
       "      <th>0</th>\n",
       "      <td>1.0</td>\n",
       "      <td>1.0</td>\n",
       "      <td>0.585</td>\n",
       "      <td>1.0</td>\n",
       "    </tr>\n",
       "  </tbody>\n",
       "</table>\n",
       "</div>"
      ],
      "text/plain": [
       "   precision  recall  threshold  F1 Score\n",
       "0        1.0     1.0      0.585       1.0"
      ]
     },
     "execution_count": 52,
     "metadata": {},
     "output_type": "execute_result"
    }
   ],
   "source": [
    "# Threshold to get best F1 score\n",
    "maximum_f1_df = PR_curve_df.iloc[PR_curve_df[\"F1 Score\"].idxmax()].to_frame().T\n",
    "best_thres = maximum_f1_df['threshold'].iloc[0]\n",
    "maximum_f1_df"
   ]
  },
  {
   "cell_type": "code",
   "execution_count": 53,
   "id": "2d1e5f1c-d987-46b4-8d80-afd998b7f160",
   "metadata": {},
   "outputs": [
    {
     "data": {
      "application/vnd.vegalite.v4+json": {
       "$schema": "https://vega.github.io/schema/vega-lite/v4.8.1.json",
       "config": {
        "view": {
         "continuousHeight": 300,
         "continuousWidth": 400
        }
       },
       "datasets": {
        "data-09cce7951be708932315fb21d4a0fbe5": [
         {
          "F1 Score": 1,
          "precision": 1,
          "recall": 1,
          "threshold": 0.585
         }
        ],
        "data-ad25ebd5ebc24b73f7f4c45274a96b8c": [
         {
          "F1 Score": 1,
          "precision": 1,
          "recall": 1,
          "threshold": 0.585
         },
         {
          "F1 Score": 0.9929078014184397,
          "precision": 1,
          "recall": 0.9859154929577465,
          "threshold": 0.625
         },
         {
          "F1 Score": 0.9857142857142858,
          "precision": 1,
          "recall": 0.971830985915493,
          "threshold": 0.635
         },
         {
          "F1 Score": 0.9784172661870503,
          "precision": 1,
          "recall": 0.9577464788732394,
          "threshold": 0.64
         },
         {
          "F1 Score": 0.9635036496350364,
          "precision": 1,
          "recall": 0.9295774647887324,
          "threshold": 0.645
         },
         {
          "F1 Score": 0.9558823529411764,
          "precision": 1,
          "recall": 0.9154929577464789,
          "threshold": 0.665
         },
         {
          "F1 Score": 0.9481481481481481,
          "precision": 1,
          "recall": 0.9014084507042254,
          "threshold": 0.7
         },
         {
          "F1 Score": 0.9323308270676691,
          "precision": 1,
          "recall": 0.8732394366197183,
          "threshold": 0.715
         },
         {
          "F1 Score": 0.9242424242424242,
          "precision": 1,
          "recall": 0.8591549295774648,
          "threshold": 0.72
         },
         {
          "F1 Score": 0.916030534351145,
          "precision": 1,
          "recall": 0.8450704225352113,
          "threshold": 0.725
         },
         {
          "F1 Score": 0.9076923076923077,
          "precision": 1,
          "recall": 0.8309859154929577,
          "threshold": 0.745
         },
         {
          "F1 Score": 0.890625,
          "precision": 1,
          "recall": 0.8028169014084507,
          "threshold": 0.75
         },
         {
          "F1 Score": 0.873015873015873,
          "precision": 1,
          "recall": 0.7746478873239436,
          "threshold": 0.755
         },
         {
          "F1 Score": 0.864,
          "precision": 1,
          "recall": 0.7605633802816901,
          "threshold": 0.785
         },
         {
          "F1 Score": 0.8455284552845529,
          "precision": 1,
          "recall": 0.7323943661971831,
          "threshold": 0.79
         },
         {
          "F1 Score": 0.8360655737704918,
          "precision": 1,
          "recall": 0.7183098591549296,
          "threshold": 0.815
         },
         {
          "F1 Score": 0.8264462809917354,
          "precision": 1,
          "recall": 0.704225352112676,
          "threshold": 0.82
         },
         {
          "F1 Score": 0.7966101694915254,
          "precision": 1,
          "recall": 0.6619718309859155,
          "threshold": 0.825
         },
         {
          "F1 Score": 0.7863247863247863,
          "precision": 1,
          "recall": 0.647887323943662,
          "threshold": 0.835
         },
         {
          "F1 Score": 0.7758620689655172,
          "precision": 1,
          "recall": 0.6338028169014085,
          "threshold": 0.84
         },
         {
          "F1 Score": 0.7652173913043477,
          "precision": 1,
          "recall": 0.6197183098591549,
          "threshold": 0.845
         },
         {
          "F1 Score": 0.7543859649122806,
          "precision": 1,
          "recall": 0.6056338028169014,
          "threshold": 0.85
         },
         {
          "F1 Score": 0.743362831858407,
          "precision": 1,
          "recall": 0.5915492957746479,
          "threshold": 0.855
         },
         {
          "F1 Score": 0.7321428571428571,
          "precision": 1,
          "recall": 0.5774647887323944,
          "threshold": 0.86
         },
         {
          "F1 Score": 0.7090909090909091,
          "precision": 1,
          "recall": 0.5492957746478874,
          "threshold": 0.865
         },
         {
          "F1 Score": 0.6851851851851851,
          "precision": 1,
          "recall": 0.5211267605633803,
          "threshold": 0.87
         },
         {
          "F1 Score": 0.660377358490566,
          "precision": 1,
          "recall": 0.49295774647887325,
          "threshold": 0.875
         },
         {
          "F1 Score": 0.6213592233009708,
          "precision": 1,
          "recall": 0.4507042253521127,
          "threshold": 0.88
         },
         {
          "F1 Score": 0.5940594059405941,
          "precision": 1,
          "recall": 0.4225352112676056,
          "threshold": 0.885
         },
         {
          "F1 Score": 0.5360824742268041,
          "precision": 1,
          "recall": 0.36619718309859156,
          "threshold": 0.89
         },
         {
          "F1 Score": 0.5052631578947369,
          "precision": 1,
          "recall": 0.3380281690140845,
          "threshold": 0.895
         },
         {
          "F1 Score": 0.4893617021276596,
          "precision": 1,
          "recall": 0.323943661971831,
          "threshold": 0.9
         },
         {
          "F1 Score": 0.45652173913043476,
          "precision": 1,
          "recall": 0.29577464788732394,
          "threshold": 0.905
         },
         {
          "F1 Score": 0.40449438202247184,
          "precision": 1,
          "recall": 0.2535211267605634,
          "threshold": 0.915
         },
         {
          "F1 Score": 0.36781609195402304,
          "precision": 1,
          "recall": 0.22535211267605634,
          "threshold": 0.925
         },
         {
          "F1 Score": 0.32941176470588235,
          "precision": 1,
          "recall": 0.19718309859154928,
          "threshold": 0.93
         },
         {
          "F1 Score": 0.26829268292682923,
          "precision": 1,
          "recall": 0.15492957746478872,
          "threshold": 0.935
         },
         {
          "F1 Score": 0.2469135802469136,
          "precision": 1,
          "recall": 0.14084507042253522,
          "threshold": 0.945
         },
         {
          "F1 Score": 0.20253164556962025,
          "precision": 1,
          "recall": 0.11267605633802817,
          "threshold": 0.95
         },
         {
          "F1 Score": 0.17948717948717946,
          "precision": 1,
          "recall": 0.09859154929577464,
          "threshold": 0.955
         },
         {
          "F1 Score": 0.15584415584415587,
          "precision": 1,
          "recall": 0.08450704225352113,
          "threshold": 0.96
         },
         {
          "F1 Score": 0.10666666666666667,
          "precision": 1,
          "recall": 0.056338028169014086,
          "threshold": 0.965
         },
         {
          "F1 Score": 0.08108108108108109,
          "precision": 1,
          "recall": 0.04225352112676056,
          "threshold": 0.985
         },
         {
          "F1 Score": 0.05479452054794521,
          "precision": 1,
          "recall": 0.028169014084507043,
          "threshold": 0.99
         },
         {
          "F1 Score": 0,
          "precision": 1,
          "recall": 0,
          "threshold": null
         }
        ]
       },
       "layer": [
        {
         "data": {
          "name": "data-ad25ebd5ebc24b73f7f4c45274a96b8c"
         },
         "encoding": {
          "color": {
           "field": "F1 Score",
           "type": "quantitative"
          },
          "x": {
           "field": "recall",
           "type": "quantitative"
          },
          "y": {
           "field": "precision",
           "type": "quantitative"
          }
         },
         "mark": "circle"
        },
        {
         "data": {
          "name": "data-09cce7951be708932315fb21d4a0fbe5"
         },
         "encoding": {
          "x": {
           "field": "recall",
           "type": "quantitative"
          },
          "y": {
           "field": "precision",
           "type": "quantitative"
          }
         },
         "mark": {
          "color": "red",
          "opacity": 1,
          "size": 100,
          "type": "circle"
         },
         "title": "PR curve with best threshold"
        },
        {
         "data": {
          "name": "data-09cce7951be708932315fb21d4a0fbe5"
         },
         "encoding": {
          "text": {
           "field": "threshold",
           "format": ".2f",
           "type": "quantitative"
          },
          "x": {
           "field": "recall",
           "type": "quantitative"
          },
          "y": {
           "field": "precision",
           "type": "quantitative"
          }
         },
         "mark": {
          "align": "left",
          "baseline": "middle",
          "dx": 15,
          "type": "text"
         },
         "title": "PR curve with best threshold"
        }
       ]
      },
      "image/png": "[encoded data removed]",
      "text/plain": [
       "<VegaLite 4 object>\n",
       "\n",
       "If you see this message, it means the renderer has not been properly enabled\n",
       "for the frontend that you are using. For more information, see\n",
       "https://altair-viz.github.io/user_guide/troubleshooting.html\n"
      ]
     },
     "execution_count": 53,
     "metadata": {},
     "output_type": "execute_result"
    }
   ],
   "source": [
    "# PR curve with best threshold\n",
    "\n",
    "PR_curve = alt.Chart(PR_curve_df).mark_circle().encode(\n",
    "    x=\"recall\",\n",
    "    y=\"precision\",\n",
    "    color=\"F1 Score\"\n",
    ")\n",
    "max_f1_point = alt.Chart(maximum_f1_df, \n",
    "                         title = 'PR curve with best threshold',).mark_circle(\n",
    "    color=\"red\", size=100, opacity=1).encode(\n",
    "    x=\"recall\",\n",
    "    y=\"precision\"\n",
    ")\n",
    "\n",
    "text = max_f1_point.mark_text(\n",
    "    align='left',\n",
    "    baseline='middle',\n",
    "    dx=15).encode(text= alt.Text(\"threshold\", format = \".2f\"))\n",
    "\n",
    "PR_curve_plot = PR_curve + max_f1_point + text\n",
    "PR_curve_plot"
   ]
  },
  {
   "cell_type": "code",
   "execution_count": 54,
   "id": "d5f659b3-9e27-4c5d-a157-2c3daa8aeb70",
   "metadata": {},
   "outputs": [],
   "source": [
    "# Evaluate Model with test data set with best_thres\n",
    "y_pred_train_thres = rand_search_rf.predict_proba(X_train)[:, 1] > best_thres\n",
    "y_pred_thres = rand_search_rf.predict_proba(X_test)[:, 1] > best_thres"
   ]
  },
  {
   "cell_type": "code",
   "execution_count": 55,
   "id": "1cb82856-d73a-4256-b109-e6a1205cd5b8",
   "metadata": {},
   "outputs": [],
   "source": [
    "# Table of Metrics for positive class with best_thres\n",
    "model_perf_thres_df = pd.DataFrame(\n",
    "    {\n",
    "        \"Accuracy\": [accuracy_score(y_train, y_pred_train_thres), accuracy_score(y_test, y_pred_thres)],\n",
    "        \"Precision\": [precision_score(y_train, y_pred_train_thres), precision_score(y_test, y_pred_thres)],\n",
    "        \"Recall\": [recall_score(y_train, y_pred_train_thres), recall_score(y_test, y_pred_thres)],\n",
    "        \"F1 Score\": [f1_score(y_train, y_pred_train_thres), f1_score(y_test, y_pred_thres)]\n",
    "    },\n",
    "    index=[\"Training data with best threshold\", \"Test Data with best threshold\"])"
   ]
  },
  {
   "cell_type": "code",
   "execution_count": 56,
   "id": "7470dc05-a6b5-4fa9-8d84-b34450e8a7fd",
   "metadata": {},
   "outputs": [
    {
     "data": {
      "text/html": [
       "<div>\n",
       "<style scoped>\n",
       "    .dataframe tbody tr th:only-of-type {\n",
       "        vertical-align: middle;\n",
       "    }\n",
       "\n",
       "    .dataframe tbody tr th {\n",
       "        vertical-align: top;\n",
       "    }\n",
       "\n",
       "    .dataframe thead th {\n",
       "        text-align: right;\n",
       "    }\n",
       "</style>\n",
       "<table border=\"1\" class=\"dataframe\">\n",
       "  <thead>\n",
       "    <tr style=\"text-align: right;\">\n",
       "      <th></th>\n",
       "      <th>Accuracy</th>\n",
       "      <th>Precision</th>\n",
       "      <th>Recall</th>\n",
       "      <th>F1 Score</th>\n",
       "    </tr>\n",
       "  </thead>\n",
       "  <tbody>\n",
       "    <tr>\n",
       "      <th>Training Data Set</th>\n",
       "      <td>1.000000</td>\n",
       "      <td>1.000000</td>\n",
       "      <td>1.000000</td>\n",
       "      <td>1.000000</td>\n",
       "    </tr>\n",
       "    <tr>\n",
       "      <th>Test Data Set</th>\n",
       "      <td>0.816667</td>\n",
       "      <td>0.850000</td>\n",
       "      <td>0.680000</td>\n",
       "      <td>0.755556</td>\n",
       "    </tr>\n",
       "    <tr>\n",
       "      <th>Training data with best threshold</th>\n",
       "      <td>0.995816</td>\n",
       "      <td>1.000000</td>\n",
       "      <td>0.985915</td>\n",
       "      <td>0.992908</td>\n",
       "    </tr>\n",
       "    <tr>\n",
       "      <th>Test Data with best threshold</th>\n",
       "      <td>0.783333</td>\n",
       "      <td>0.928571</td>\n",
       "      <td>0.520000</td>\n",
       "      <td>0.666667</td>\n",
       "    </tr>\n",
       "  </tbody>\n",
       "</table>\n",
       "</div>"
      ],
      "text/plain": [
       "                                   Accuracy  Precision    Recall  F1 Score\n",
       "Training Data Set                  1.000000   1.000000  1.000000  1.000000\n",
       "Test Data Set                      0.816667   0.850000  0.680000  0.755556\n",
       "Training data with best threshold  0.995816   1.000000  0.985915  0.992908\n",
       "Test Data with best threshold      0.783333   0.928571  0.520000  0.666667"
      ]
     },
     "execution_count": 56,
     "metadata": {},
     "output_type": "execute_result"
    }
   ],
   "source": [
    "best_threshold_df = pd.concat([performance_df, model_perf_thres_df])\n",
    "best_threshold_df"
   ]
  },
  {
   "cell_type": "markdown",
   "id": "4926def1-54ee-4861-806a-a1d5f6a4528f",
   "metadata": {},
   "source": [
    "#### ROC Curve"
   ]
  },
  {
   "cell_type": "code",
   "execution_count": 57,
   "id": "9d123af9-977d-4f88-a1c9-7ae66136a627",
   "metadata": {},
   "outputs": [
    {
     "data": {
      "application/vnd.vegalite.v4+json": {
       "$schema": "https://vega.github.io/schema/vega-lite/v4.8.1.json",
       "config": {
        "view": {
         "continuousHeight": 300,
         "continuousWidth": 400
        }
       },
       "datasets": {
        "data-5198e0305ff8c866de0b06d207fbbb85": [
         {
          "fpr": 0.05714285714285714,
          "thresholds": 0.585,
          "tpr": 0.52
         }
        ],
        "data-ab4712d1ca8e45553f1536bcce01afbc": [
         {
          "fpr": 0,
          "thresholds": 1.92,
          "tpr": 0
         },
         {
          "fpr": 0,
          "thresholds": 0.92,
          "tpr": 0.04
         },
         {
          "fpr": 0,
          "thresholds": 0.865,
          "tpr": 0.08
         },
         {
          "fpr": 0,
          "thresholds": 0.82,
          "tpr": 0.16
         },
         {
          "fpr": 0,
          "thresholds": 0.805,
          "tpr": 0.28
         },
         {
          "fpr": 0,
          "thresholds": 0.66,
          "tpr": 0.44
         },
         {
          "fpr": 0.02857142857142857,
          "thresholds": 0.655,
          "tpr": 0.44
         },
         {
          "fpr": 0.02857142857142857,
          "thresholds": 0.59,
          "tpr": 0.52
         },
         {
          "fpr": 0.05714285714285714,
          "thresholds": 0.585,
          "tpr": 0.52
         },
         {
          "fpr": 0.05714285714285714,
          "thresholds": 0.575,
          "tpr": 0.56
         },
         {
          "fpr": 0.05714285714285714,
          "thresholds": 0.57,
          "tpr": 0.64
         },
         {
          "fpr": 0.08571428571428572,
          "thresholds": 0.54,
          "tpr": 0.64
         },
         {
          "fpr": 0.08571428571428572,
          "thresholds": 0.45,
          "tpr": 0.72
         },
         {
          "fpr": 0.14285714285714285,
          "thresholds": 0.42,
          "tpr": 0.72
         },
         {
          "fpr": 0.14285714285714285,
          "thresholds": 0.405,
          "tpr": 0.76
         },
         {
          "fpr": 0.17142857142857143,
          "thresholds": 0.375,
          "tpr": 0.8
         },
         {
          "fpr": 0.17142857142857143,
          "thresholds": 0.35,
          "tpr": 0.84
         },
         {
          "fpr": 0.2,
          "thresholds": 0.315,
          "tpr": 0.84
         },
         {
          "fpr": 0.2,
          "thresholds": 0.305,
          "tpr": 0.92
         },
         {
          "fpr": 0.3142857142857143,
          "thresholds": 0.15,
          "tpr": 0.92
         },
         {
          "fpr": 0.3142857142857143,
          "thresholds": 0.13,
          "tpr": 1
         },
         {
          "fpr": 0.37142857142857144,
          "thresholds": 0.075,
          "tpr": 1
         },
         {
          "fpr": 0.42857142857142855,
          "thresholds": 0.07,
          "tpr": 1
         },
         {
          "fpr": 0.6,
          "thresholds": 0.06,
          "tpr": 1
         },
         {
          "fpr": 0.6571428571428571,
          "thresholds": 0.04,
          "tpr": 1
         },
         {
          "fpr": 0.7428571428571429,
          "thresholds": 0.035,
          "tpr": 1
         },
         {
          "fpr": 0.8571428571428571,
          "thresholds": 0.02,
          "tpr": 1
         },
         {
          "fpr": 0.9428571428571428,
          "thresholds": 0.015,
          "tpr": 1
         },
         {
          "fpr": 1,
          "thresholds": 0,
          "tpr": 1
         }
        ]
       },
       "layer": [
        {
         "data": {
          "name": "data-ab4712d1ca8e45553f1536bcce01afbc"
         },
         "encoding": {
          "x": {
           "field": "fpr",
           "title": "False Positive Rate",
           "type": "quantitative"
          },
          "y": {
           "field": "tpr",
           "title": "True Positive Rate",
           "type": "quantitative"
          }
         },
         "mark": "line",
         "title": "ROC Curve"
        },
        {
         "data": {
          "name": "data-5198e0305ff8c866de0b06d207fbbb85"
         },
         "encoding": {
          "x": {
           "field": "fpr",
           "type": "quantitative"
          },
          "y": {
           "field": "tpr",
           "type": "quantitative"
          }
         },
         "mark": {
          "color": "green",
          "opacity": 1,
          "size": 100,
          "type": "point"
         }
        },
        {
         "data": {
          "name": "data-5198e0305ff8c866de0b06d207fbbb85"
         },
         "encoding": {
          "text": {
           "field": "thresholds",
           "format": ".1f",
           "type": "quantitative"
          },
          "x": {
           "field": "fpr",
           "type": "quantitative"
          },
          "y": {
           "field": "tpr",
           "type": "quantitative"
          }
         },
         "mark": {
          "align": "left",
          "baseline": "middle",
          "dx": 15,
          "type": "text"
         }
        }
       ]
      },
      "image/png": "[encoded data removed]",
      "text/plain": [
       "<VegaLite 4 object>\n",
       "\n",
       "If you see this message, it means the renderer has not been properly enabled\n",
       "for the frontend that you are using. For more information, see\n",
       "https://altair-viz.github.io/user_guide/troubleshooting.html\n"
      ]
     },
     "execution_count": 57,
     "metadata": {},
     "output_type": "execute_result"
    }
   ],
   "source": [
    "false_positive_rate, true_positive_rate, thresholds = roc_curve(y_test, rand_search_rf.predict_proba(X_test)[:, 1])\n",
    "\n",
    "roc_df = pd.DataFrame()\n",
    "roc_df['fpr'] = false_positive_rate\n",
    "roc_df['tpr'] = true_positive_rate\n",
    "roc_df['thresholds'] = thresholds\n",
    "\n",
    "pt_roc_index = (roc_df['thresholds'] - best_thres).abs().argmin()\n",
    "\n",
    "roc_curves = alt.Chart(roc_df, title = \"ROC Curve\").mark_line().encode(\n",
    "        alt.X('fpr', title=\"False Positive Rate\"),\n",
    "        alt.Y('tpr', title=\"True Positive Rate\"))\n",
    "\n",
    "roc_max_f1_point = alt.Chart(pd.DataFrame(roc_df.iloc[pt_roc_index]).T, \n",
    "                         ).mark_point(\n",
    "    color=\"green\", size=100, opacity=1).encode(\n",
    "    x=\"fpr\",\n",
    "    y=\"tpr\"\n",
    ")\n",
    "\n",
    "roc_text = roc_max_f1_point.mark_text(\n",
    "    align='left',\n",
    "    baseline='middle',\n",
    "    dx=15).encode(text= alt.Text(\"thresholds:Q\", format = \".1f\"))\n",
    "\n",
    "roc_curve_plot = roc_curves + roc_max_f1_point + roc_text\n",
    "roc_curve_plot"
   ]
  },
  {
   "cell_type": "markdown",
   "id": "59532954-88ef-4dc8-94d6-2c2a6b222922",
   "metadata": {},
   "source": [
    "#### ROC_AUC and Average Precision score"
   ]
  },
  {
   "cell_type": "code",
   "execution_count": 58,
   "id": "c989dfa1-87ef-404e-9263-5f6e0da26070",
   "metadata": {},
   "outputs": [
    {
     "data": {
      "text/html": [
       "<div>\n",
       "<style scoped>\n",
       "    .dataframe tbody tr th:only-of-type {\n",
       "        vertical-align: middle;\n",
       "    }\n",
       "\n",
       "    .dataframe tbody tr th {\n",
       "        vertical-align: top;\n",
       "    }\n",
       "\n",
       "    .dataframe thead th {\n",
       "        text-align: right;\n",
       "    }\n",
       "</style>\n",
       "<table border=\"1\" class=\"dataframe\">\n",
       "  <thead>\n",
       "    <tr style=\"text-align: right;\">\n",
       "      <th></th>\n",
       "      <th>Test Data Metrics</th>\n",
       "    </tr>\n",
       "  </thead>\n",
       "  <tbody>\n",
       "    <tr>\n",
       "      <th>Accuracy</th>\n",
       "      <td>0.783333</td>\n",
       "    </tr>\n",
       "    <tr>\n",
       "      <th>Precision</th>\n",
       "      <td>0.928571</td>\n",
       "    </tr>\n",
       "    <tr>\n",
       "      <th>Recall</th>\n",
       "      <td>0.520000</td>\n",
       "    </tr>\n",
       "    <tr>\n",
       "      <th>F1 Score</th>\n",
       "      <td>0.666667</td>\n",
       "    </tr>\n",
       "    <tr>\n",
       "      <th>Average Precision Score</th>\n",
       "      <td>0.898228</td>\n",
       "    </tr>\n",
       "    <tr>\n",
       "      <th>AUC Score</th>\n",
       "      <td>0.924000</td>\n",
       "    </tr>\n",
       "  </tbody>\n",
       "</table>\n",
       "</div>"
      ],
      "text/plain": [
       "                         Test Data Metrics\n",
       "Accuracy                          0.783333\n",
       "Precision                         0.928571\n",
       "Recall                            0.520000\n",
       "F1 Score                          0.666667\n",
       "Average Precision Score           0.898228\n",
       "AUC Score                         0.924000"
      ]
     },
     "execution_count": 58,
     "metadata": {},
     "output_type": "execute_result"
    }
   ],
   "source": [
    "ap_forest = average_precision_score(y_test, rand_search_rf.predict_proba(X_test)[:, 1])\n",
    "roc_forest = roc_auc_score(y_test, rand_search_rf.predict_proba(X_test)[:, 1])\n",
    "\n",
    "test_model_perf_df = pd.DataFrame({\n",
    "    \"Accuracy\" : model_perf_thres_df.loc[\"Test Data with best threshold\"][\"Accuracy\"],\n",
    "    \"Precision\" : model_perf_thres_df.loc[\"Test Data with best threshold\"][\"Precision\"],\n",
    "    \"Recall\" : model_perf_thres_df.loc[\"Test Data with best threshold\"][\"Recall\"],\n",
    "    \"F1 Score\" : model_perf_thres_df.loc[\"Test Data with best threshold\"][\"F1 Score\"],\n",
    "    \"Average Precision Score\" : ap_forest,\n",
    "    \"AUC Score\" : roc_forest},\n",
    "    index = [\"Test Data Metrics\"]).T\n",
    "test_model_perf_df"
   ]
  },
  {
   "cell_type": "markdown",
   "id": "9e31c632-1318-4eaf-bd69-8f34c4437dad",
   "metadata": {},
   "source": [
    "#### Feature importance"
   ]
  },
  {
   "cell_type": "code",
   "execution_count": 59,
   "id": "432f6615-c890-438a-acd3-4194f1c80d99",
   "metadata": {},
   "outputs": [
    {
     "data": {
      "text/plain": [
       "array([0.12400402, 0.07521965, 0.09284984, 0.07536459, 0.18984165,\n",
       "       0.07912204, 0.30969314, 0.01076293, 0.01789027, 0.01458661,\n",
       "       0.01066527])"
      ]
     },
     "execution_count": 59,
     "metadata": {},
     "output_type": "execute_result"
    }
   ],
   "source": [
    "importances = pipe_rf[\"randomforestclassifier\"].feature_importances_\n",
    "importances"
   ]
  },
  {
   "cell_type": "code",
   "execution_count": 60,
   "id": "d20c5d8f-2ce9-4639-8c39-c4b727ccf8ea",
   "metadata": {},
   "outputs": [
    {
     "data": {
      "text/plain": [
       "<AxesSubplot:>"
      ]
     },
     "execution_count": 60,
     "metadata": {},
     "output_type": "execute_result"
    },
    {
     "data": {
      "image/png": "[encoded data removed]",
      "text/plain": [
       "<Figure size 432x288 with 1 Axes>"
      ]
     },
     "metadata": {
      "needs_background": "light"
     },
     "output_type": "display_data"
    }
   ],
   "source": [
    "%matplotlib inline\n",
    "feats = {} # a dict to hold feature_name: feature_importance\n",
    "for feature, importance in zip(X_train.columns, pipe_rf[\"randomforestclassifier\"].feature_importances_):\n",
    "    feats[feature] = importance #add the name/value pair \n",
    "\n",
    "importances = pd.DataFrame.from_dict(feats, orient='index').rename(columns={0: 'importance'})\n",
    "importances.sort_values(by='importance').plot(kind='bar', rot=90)"
   ]
  },
  {
   "cell_type": "markdown",
   "id": "94bfca91-9856-49bb-a892-16dbc32196bd",
   "metadata": {},
   "source": [
    "* The above plot shows the distribution of important features given by the RandomForestClassifier. With the model that we trained it seems platelets count affect more in the death event followed by the ejection_fraction.\n",
    "* Furthermore if we can reduce the checkup/follow-up time it will icrease the chances of survival of the person."
   ]
  },
  {
   "cell_type": "code",
   "execution_count": null,
   "id": "64b4d88f-b2f2-4b3a-9df6-b74396507348",
   "metadata": {},
   "outputs": [],
   "source": []
  }
 ],
 "metadata": {
  "kernelspec": {
   "display_name": "Python [conda env:.conda-Heart-failure]",
   "language": "python",
   "name": "conda-env-.conda-Heart-failure-py"
  },
  "language_info": {
   "codemirror_mode": {
    "name": "ipython",
    "version": 3
   },
   "file_extension": ".py",
   "mimetype": "text/x-python",
   "name": "python",
   "nbconvert_exporter": "python",
   "pygments_lexer": "ipython3",
   "version": "3.10.0"
  }
 },
 "nbformat": 4,
 "nbformat_minor": 5
}
